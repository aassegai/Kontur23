{
  "nbformat": 4,
  "nbformat_minor": 0,
  "metadata": {
    "colab": {
      "provenance": [],
      "collapsed_sections": [
        "bNjz9X6l5x5X",
        "cpD-pNFqtIeT"
      ]
    },
    "kernelspec": {
      "name": "python3",
      "display_name": "Python 3"
    },
    "language_info": {
      "name": "python"
    },
    "gpuClass": "standard",
    "widgets": {
      "application/vnd.jupyter.widget-state+json": {
        "bd53e84725164c3c965e51ee3678d6a3": {
          "model_module": "@jupyter-widgets/controls",
          "model_name": "HBoxModel",
          "model_module_version": "1.5.0",
          "state": {
            "_dom_classes": [],
            "_model_module": "@jupyter-widgets/controls",
            "_model_module_version": "1.5.0",
            "_model_name": "HBoxModel",
            "_view_count": null,
            "_view_module": "@jupyter-widgets/controls",
            "_view_module_version": "1.5.0",
            "_view_name": "HBoxView",
            "box_style": "",
            "children": [
              "IPY_MODEL_2dbaf70f11424a04b8479feadbd536eb",
              "IPY_MODEL_64b46313563647e39d5ff6066449ccad",
              "IPY_MODEL_513401bcda06472bbe1d4f4480747bf8"
            ],
            "layout": "IPY_MODEL_7936b7b44baf44658422b007bd6e85c8"
          }
        },
        "2dbaf70f11424a04b8479feadbd536eb": {
          "model_module": "@jupyter-widgets/controls",
          "model_name": "HTMLModel",
          "model_module_version": "1.5.0",
          "state": {
            "_dom_classes": [],
            "_model_module": "@jupyter-widgets/controls",
            "_model_module_version": "1.5.0",
            "_model_name": "HTMLModel",
            "_view_count": null,
            "_view_module": "@jupyter-widgets/controls",
            "_view_module_version": "1.5.0",
            "_view_name": "HTMLView",
            "description": "",
            "description_tooltip": null,
            "layout": "IPY_MODEL_298168be0b994c909e79e1b0bbde82aa",
            "placeholder": "​",
            "style": "IPY_MODEL_7065d5f3036641b282c5b5bbc96cfc94",
            "value": "100%"
          }
        },
        "64b46313563647e39d5ff6066449ccad": {
          "model_module": "@jupyter-widgets/controls",
          "model_name": "FloatProgressModel",
          "model_module_version": "1.5.0",
          "state": {
            "_dom_classes": [],
            "_model_module": "@jupyter-widgets/controls",
            "_model_module_version": "1.5.0",
            "_model_name": "FloatProgressModel",
            "_view_count": null,
            "_view_module": "@jupyter-widgets/controls",
            "_view_module_version": "1.5.0",
            "_view_name": "ProgressView",
            "bar_style": "success",
            "description": "",
            "description_tooltip": null,
            "layout": "IPY_MODEL_9a981356951f4dc2bbc9503ae8010e6e",
            "max": 1439,
            "min": 0,
            "orientation": "horizontal",
            "style": "IPY_MODEL_9e61dd6a65eb461297412fd5e813e7ab",
            "value": 1439
          }
        },
        "513401bcda06472bbe1d4f4480747bf8": {
          "model_module": "@jupyter-widgets/controls",
          "model_name": "HTMLModel",
          "model_module_version": "1.5.0",
          "state": {
            "_dom_classes": [],
            "_model_module": "@jupyter-widgets/controls",
            "_model_module_version": "1.5.0",
            "_model_name": "HTMLModel",
            "_view_count": null,
            "_view_module": "@jupyter-widgets/controls",
            "_view_module_version": "1.5.0",
            "_view_name": "HTMLView",
            "description": "",
            "description_tooltip": null,
            "layout": "IPY_MODEL_6e9e1362bb6d4e8188d8950bb5a677b5",
            "placeholder": "​",
            "style": "IPY_MODEL_5a05e67a44034eb19f56c0d6d3f6674e",
            "value": " 1439/1439 [00:00&lt;00:00, 5813.98it/s]"
          }
        },
        "7936b7b44baf44658422b007bd6e85c8": {
          "model_module": "@jupyter-widgets/base",
          "model_name": "LayoutModel",
          "model_module_version": "1.2.0",
          "state": {
            "_model_module": "@jupyter-widgets/base",
            "_model_module_version": "1.2.0",
            "_model_name": "LayoutModel",
            "_view_count": null,
            "_view_module": "@jupyter-widgets/base",
            "_view_module_version": "1.2.0",
            "_view_name": "LayoutView",
            "align_content": null,
            "align_items": null,
            "align_self": null,
            "border": null,
            "bottom": null,
            "display": null,
            "flex": null,
            "flex_flow": null,
            "grid_area": null,
            "grid_auto_columns": null,
            "grid_auto_flow": null,
            "grid_auto_rows": null,
            "grid_column": null,
            "grid_gap": null,
            "grid_row": null,
            "grid_template_areas": null,
            "grid_template_columns": null,
            "grid_template_rows": null,
            "height": null,
            "justify_content": null,
            "justify_items": null,
            "left": null,
            "margin": null,
            "max_height": null,
            "max_width": null,
            "min_height": null,
            "min_width": null,
            "object_fit": null,
            "object_position": null,
            "order": null,
            "overflow": null,
            "overflow_x": null,
            "overflow_y": null,
            "padding": null,
            "right": null,
            "top": null,
            "visibility": null,
            "width": null
          }
        },
        "298168be0b994c909e79e1b0bbde82aa": {
          "model_module": "@jupyter-widgets/base",
          "model_name": "LayoutModel",
          "model_module_version": "1.2.0",
          "state": {
            "_model_module": "@jupyter-widgets/base",
            "_model_module_version": "1.2.0",
            "_model_name": "LayoutModel",
            "_view_count": null,
            "_view_module": "@jupyter-widgets/base",
            "_view_module_version": "1.2.0",
            "_view_name": "LayoutView",
            "align_content": null,
            "align_items": null,
            "align_self": null,
            "border": null,
            "bottom": null,
            "display": null,
            "flex": null,
            "flex_flow": null,
            "grid_area": null,
            "grid_auto_columns": null,
            "grid_auto_flow": null,
            "grid_auto_rows": null,
            "grid_column": null,
            "grid_gap": null,
            "grid_row": null,
            "grid_template_areas": null,
            "grid_template_columns": null,
            "grid_template_rows": null,
            "height": null,
            "justify_content": null,
            "justify_items": null,
            "left": null,
            "margin": null,
            "max_height": null,
            "max_width": null,
            "min_height": null,
            "min_width": null,
            "object_fit": null,
            "object_position": null,
            "order": null,
            "overflow": null,
            "overflow_x": null,
            "overflow_y": null,
            "padding": null,
            "right": null,
            "top": null,
            "visibility": null,
            "width": null
          }
        },
        "7065d5f3036641b282c5b5bbc96cfc94": {
          "model_module": "@jupyter-widgets/controls",
          "model_name": "DescriptionStyleModel",
          "model_module_version": "1.5.0",
          "state": {
            "_model_module": "@jupyter-widgets/controls",
            "_model_module_version": "1.5.0",
            "_model_name": "DescriptionStyleModel",
            "_view_count": null,
            "_view_module": "@jupyter-widgets/base",
            "_view_module_version": "1.2.0",
            "_view_name": "StyleView",
            "description_width": ""
          }
        },
        "9a981356951f4dc2bbc9503ae8010e6e": {
          "model_module": "@jupyter-widgets/base",
          "model_name": "LayoutModel",
          "model_module_version": "1.2.0",
          "state": {
            "_model_module": "@jupyter-widgets/base",
            "_model_module_version": "1.2.0",
            "_model_name": "LayoutModel",
            "_view_count": null,
            "_view_module": "@jupyter-widgets/base",
            "_view_module_version": "1.2.0",
            "_view_name": "LayoutView",
            "align_content": null,
            "align_items": null,
            "align_self": null,
            "border": null,
            "bottom": null,
            "display": null,
            "flex": null,
            "flex_flow": null,
            "grid_area": null,
            "grid_auto_columns": null,
            "grid_auto_flow": null,
            "grid_auto_rows": null,
            "grid_column": null,
            "grid_gap": null,
            "grid_row": null,
            "grid_template_areas": null,
            "grid_template_columns": null,
            "grid_template_rows": null,
            "height": null,
            "justify_content": null,
            "justify_items": null,
            "left": null,
            "margin": null,
            "max_height": null,
            "max_width": null,
            "min_height": null,
            "min_width": null,
            "object_fit": null,
            "object_position": null,
            "order": null,
            "overflow": null,
            "overflow_x": null,
            "overflow_y": null,
            "padding": null,
            "right": null,
            "top": null,
            "visibility": null,
            "width": null
          }
        },
        "9e61dd6a65eb461297412fd5e813e7ab": {
          "model_module": "@jupyter-widgets/controls",
          "model_name": "ProgressStyleModel",
          "model_module_version": "1.5.0",
          "state": {
            "_model_module": "@jupyter-widgets/controls",
            "_model_module_version": "1.5.0",
            "_model_name": "ProgressStyleModel",
            "_view_count": null,
            "_view_module": "@jupyter-widgets/base",
            "_view_module_version": "1.2.0",
            "_view_name": "StyleView",
            "bar_color": null,
            "description_width": ""
          }
        },
        "6e9e1362bb6d4e8188d8950bb5a677b5": {
          "model_module": "@jupyter-widgets/base",
          "model_name": "LayoutModel",
          "model_module_version": "1.2.0",
          "state": {
            "_model_module": "@jupyter-widgets/base",
            "_model_module_version": "1.2.0",
            "_model_name": "LayoutModel",
            "_view_count": null,
            "_view_module": "@jupyter-widgets/base",
            "_view_module_version": "1.2.0",
            "_view_name": "LayoutView",
            "align_content": null,
            "align_items": null,
            "align_self": null,
            "border": null,
            "bottom": null,
            "display": null,
            "flex": null,
            "flex_flow": null,
            "grid_area": null,
            "grid_auto_columns": null,
            "grid_auto_flow": null,
            "grid_auto_rows": null,
            "grid_column": null,
            "grid_gap": null,
            "grid_row": null,
            "grid_template_areas": null,
            "grid_template_columns": null,
            "grid_template_rows": null,
            "height": null,
            "justify_content": null,
            "justify_items": null,
            "left": null,
            "margin": null,
            "max_height": null,
            "max_width": null,
            "min_height": null,
            "min_width": null,
            "object_fit": null,
            "object_position": null,
            "order": null,
            "overflow": null,
            "overflow_x": null,
            "overflow_y": null,
            "padding": null,
            "right": null,
            "top": null,
            "visibility": null,
            "width": null
          }
        },
        "5a05e67a44034eb19f56c0d6d3f6674e": {
          "model_module": "@jupyter-widgets/controls",
          "model_name": "DescriptionStyleModel",
          "model_module_version": "1.5.0",
          "state": {
            "_model_module": "@jupyter-widgets/controls",
            "_model_module_version": "1.5.0",
            "_model_name": "DescriptionStyleModel",
            "_view_count": null,
            "_view_module": "@jupyter-widgets/base",
            "_view_module_version": "1.2.0",
            "_view_name": "StyleView",
            "description_width": ""
          }
        },
        "8193a39a0949443dba8d6012f42f3eb9": {
          "model_module": "@jupyter-widgets/controls",
          "model_name": "HBoxModel",
          "model_module_version": "1.5.0",
          "state": {
            "_dom_classes": [],
            "_model_module": "@jupyter-widgets/controls",
            "_model_module_version": "1.5.0",
            "_model_name": "HBoxModel",
            "_view_count": null,
            "_view_module": "@jupyter-widgets/controls",
            "_view_module_version": "1.5.0",
            "_view_name": "HBoxView",
            "box_style": "",
            "children": [
              "IPY_MODEL_93d9103f544148578851621367ae8720",
              "IPY_MODEL_6dcb20782f9c4cfd9c1b4c3b9a14867b",
              "IPY_MODEL_dfcb9babbb1049668294e343579251fa"
            ],
            "layout": "IPY_MODEL_7784f5ea4f2449aaa1be4f564cbff44e"
          }
        },
        "93d9103f544148578851621367ae8720": {
          "model_module": "@jupyter-widgets/controls",
          "model_name": "HTMLModel",
          "model_module_version": "1.5.0",
          "state": {
            "_dom_classes": [],
            "_model_module": "@jupyter-widgets/controls",
            "_model_module_version": "1.5.0",
            "_model_name": "HTMLModel",
            "_view_count": null,
            "_view_module": "@jupyter-widgets/controls",
            "_view_module_version": "1.5.0",
            "_view_name": "HTMLView",
            "description": "",
            "description_tooltip": null,
            "layout": "IPY_MODEL_d450d873a8d54a30b97a875b1e69b736",
            "placeholder": "​",
            "style": "IPY_MODEL_fedd818d3d624c199420829832c8f99f",
            "value": ""
          }
        },
        "6dcb20782f9c4cfd9c1b4c3b9a14867b": {
          "model_module": "@jupyter-widgets/controls",
          "model_name": "FloatProgressModel",
          "model_module_version": "1.5.0",
          "state": {
            "_dom_classes": [],
            "_model_module": "@jupyter-widgets/controls",
            "_model_module_version": "1.5.0",
            "_model_name": "FloatProgressModel",
            "_view_count": null,
            "_view_module": "@jupyter-widgets/controls",
            "_view_module_version": "1.5.0",
            "_view_name": "ProgressView",
            "bar_style": "success",
            "description": "",
            "description_tooltip": null,
            "layout": "IPY_MODEL_41e21d76d1574f59bdcc67198b6a2630",
            "max": 1,
            "min": 0,
            "orientation": "horizontal",
            "style": "IPY_MODEL_0614afc222454b0ea8e9a1b5bf26ad60",
            "value": 1
          }
        },
        "dfcb9babbb1049668294e343579251fa": {
          "model_module": "@jupyter-widgets/controls",
          "model_name": "HTMLModel",
          "model_module_version": "1.5.0",
          "state": {
            "_dom_classes": [],
            "_model_module": "@jupyter-widgets/controls",
            "_model_module_version": "1.5.0",
            "_model_name": "HTMLModel",
            "_view_count": null,
            "_view_module": "@jupyter-widgets/controls",
            "_view_module_version": "1.5.0",
            "_view_name": "HTMLView",
            "description": "",
            "description_tooltip": null,
            "layout": "IPY_MODEL_bf62d1879988474f9808da210c61c5ee",
            "placeholder": "​",
            "style": "IPY_MODEL_a8ff45006f2e4adeb6b16b6042eb175f",
            "value": " 1439/? [00:03&lt;00:00, 300.76it/s]"
          }
        },
        "7784f5ea4f2449aaa1be4f564cbff44e": {
          "model_module": "@jupyter-widgets/base",
          "model_name": "LayoutModel",
          "model_module_version": "1.2.0",
          "state": {
            "_model_module": "@jupyter-widgets/base",
            "_model_module_version": "1.2.0",
            "_model_name": "LayoutModel",
            "_view_count": null,
            "_view_module": "@jupyter-widgets/base",
            "_view_module_version": "1.2.0",
            "_view_name": "LayoutView",
            "align_content": null,
            "align_items": null,
            "align_self": null,
            "border": null,
            "bottom": null,
            "display": null,
            "flex": null,
            "flex_flow": null,
            "grid_area": null,
            "grid_auto_columns": null,
            "grid_auto_flow": null,
            "grid_auto_rows": null,
            "grid_column": null,
            "grid_gap": null,
            "grid_row": null,
            "grid_template_areas": null,
            "grid_template_columns": null,
            "grid_template_rows": null,
            "height": null,
            "justify_content": null,
            "justify_items": null,
            "left": null,
            "margin": null,
            "max_height": null,
            "max_width": null,
            "min_height": null,
            "min_width": null,
            "object_fit": null,
            "object_position": null,
            "order": null,
            "overflow": null,
            "overflow_x": null,
            "overflow_y": null,
            "padding": null,
            "right": null,
            "top": null,
            "visibility": null,
            "width": null
          }
        },
        "d450d873a8d54a30b97a875b1e69b736": {
          "model_module": "@jupyter-widgets/base",
          "model_name": "LayoutModel",
          "model_module_version": "1.2.0",
          "state": {
            "_model_module": "@jupyter-widgets/base",
            "_model_module_version": "1.2.0",
            "_model_name": "LayoutModel",
            "_view_count": null,
            "_view_module": "@jupyter-widgets/base",
            "_view_module_version": "1.2.0",
            "_view_name": "LayoutView",
            "align_content": null,
            "align_items": null,
            "align_self": null,
            "border": null,
            "bottom": null,
            "display": null,
            "flex": null,
            "flex_flow": null,
            "grid_area": null,
            "grid_auto_columns": null,
            "grid_auto_flow": null,
            "grid_auto_rows": null,
            "grid_column": null,
            "grid_gap": null,
            "grid_row": null,
            "grid_template_areas": null,
            "grid_template_columns": null,
            "grid_template_rows": null,
            "height": null,
            "justify_content": null,
            "justify_items": null,
            "left": null,
            "margin": null,
            "max_height": null,
            "max_width": null,
            "min_height": null,
            "min_width": null,
            "object_fit": null,
            "object_position": null,
            "order": null,
            "overflow": null,
            "overflow_x": null,
            "overflow_y": null,
            "padding": null,
            "right": null,
            "top": null,
            "visibility": null,
            "width": null
          }
        },
        "fedd818d3d624c199420829832c8f99f": {
          "model_module": "@jupyter-widgets/controls",
          "model_name": "DescriptionStyleModel",
          "model_module_version": "1.5.0",
          "state": {
            "_model_module": "@jupyter-widgets/controls",
            "_model_module_version": "1.5.0",
            "_model_name": "DescriptionStyleModel",
            "_view_count": null,
            "_view_module": "@jupyter-widgets/base",
            "_view_module_version": "1.2.0",
            "_view_name": "StyleView",
            "description_width": ""
          }
        },
        "41e21d76d1574f59bdcc67198b6a2630": {
          "model_module": "@jupyter-widgets/base",
          "model_name": "LayoutModel",
          "model_module_version": "1.2.0",
          "state": {
            "_model_module": "@jupyter-widgets/base",
            "_model_module_version": "1.2.0",
            "_model_name": "LayoutModel",
            "_view_count": null,
            "_view_module": "@jupyter-widgets/base",
            "_view_module_version": "1.2.0",
            "_view_name": "LayoutView",
            "align_content": null,
            "align_items": null,
            "align_self": null,
            "border": null,
            "bottom": null,
            "display": null,
            "flex": null,
            "flex_flow": null,
            "grid_area": null,
            "grid_auto_columns": null,
            "grid_auto_flow": null,
            "grid_auto_rows": null,
            "grid_column": null,
            "grid_gap": null,
            "grid_row": null,
            "grid_template_areas": null,
            "grid_template_columns": null,
            "grid_template_rows": null,
            "height": null,
            "justify_content": null,
            "justify_items": null,
            "left": null,
            "margin": null,
            "max_height": null,
            "max_width": null,
            "min_height": null,
            "min_width": null,
            "object_fit": null,
            "object_position": null,
            "order": null,
            "overflow": null,
            "overflow_x": null,
            "overflow_y": null,
            "padding": null,
            "right": null,
            "top": null,
            "visibility": null,
            "width": "20px"
          }
        },
        "0614afc222454b0ea8e9a1b5bf26ad60": {
          "model_module": "@jupyter-widgets/controls",
          "model_name": "ProgressStyleModel",
          "model_module_version": "1.5.0",
          "state": {
            "_model_module": "@jupyter-widgets/controls",
            "_model_module_version": "1.5.0",
            "_model_name": "ProgressStyleModel",
            "_view_count": null,
            "_view_module": "@jupyter-widgets/base",
            "_view_module_version": "1.2.0",
            "_view_name": "StyleView",
            "bar_color": null,
            "description_width": ""
          }
        },
        "bf62d1879988474f9808da210c61c5ee": {
          "model_module": "@jupyter-widgets/base",
          "model_name": "LayoutModel",
          "model_module_version": "1.2.0",
          "state": {
            "_model_module": "@jupyter-widgets/base",
            "_model_module_version": "1.2.0",
            "_model_name": "LayoutModel",
            "_view_count": null,
            "_view_module": "@jupyter-widgets/base",
            "_view_module_version": "1.2.0",
            "_view_name": "LayoutView",
            "align_content": null,
            "align_items": null,
            "align_self": null,
            "border": null,
            "bottom": null,
            "display": null,
            "flex": null,
            "flex_flow": null,
            "grid_area": null,
            "grid_auto_columns": null,
            "grid_auto_flow": null,
            "grid_auto_rows": null,
            "grid_column": null,
            "grid_gap": null,
            "grid_row": null,
            "grid_template_areas": null,
            "grid_template_columns": null,
            "grid_template_rows": null,
            "height": null,
            "justify_content": null,
            "justify_items": null,
            "left": null,
            "margin": null,
            "max_height": null,
            "max_width": null,
            "min_height": null,
            "min_width": null,
            "object_fit": null,
            "object_position": null,
            "order": null,
            "overflow": null,
            "overflow_x": null,
            "overflow_y": null,
            "padding": null,
            "right": null,
            "top": null,
            "visibility": null,
            "width": null
          }
        },
        "a8ff45006f2e4adeb6b16b6042eb175f": {
          "model_module": "@jupyter-widgets/controls",
          "model_name": "DescriptionStyleModel",
          "model_module_version": "1.5.0",
          "state": {
            "_model_module": "@jupyter-widgets/controls",
            "_model_module_version": "1.5.0",
            "_model_name": "DescriptionStyleModel",
            "_view_count": null,
            "_view_module": "@jupyter-widgets/base",
            "_view_module_version": "1.2.0",
            "_view_name": "StyleView",
            "description_width": ""
          }
        },
        "9b0e511864d947dc9e7111cdc3bacbb0": {
          "model_module": "@jupyter-widgets/controls",
          "model_name": "HBoxModel",
          "model_module_version": "1.5.0",
          "state": {
            "_dom_classes": [],
            "_model_module": "@jupyter-widgets/controls",
            "_model_module_version": "1.5.0",
            "_model_name": "HBoxModel",
            "_view_count": null,
            "_view_module": "@jupyter-widgets/controls",
            "_view_module_version": "1.5.0",
            "_view_name": "HBoxView",
            "box_style": "",
            "children": [
              "IPY_MODEL_f22eb6f6617246e287f49e1b4729372f",
              "IPY_MODEL_67d5fd6e94174226899116c959517008",
              "IPY_MODEL_29d5dcd737df4aba84915c30bc560f2f"
            ],
            "layout": "IPY_MODEL_2b2f5d545ade4442a5d1010b840c6cd4"
          }
        },
        "f22eb6f6617246e287f49e1b4729372f": {
          "model_module": "@jupyter-widgets/controls",
          "model_name": "HTMLModel",
          "model_module_version": "1.5.0",
          "state": {
            "_dom_classes": [],
            "_model_module": "@jupyter-widgets/controls",
            "_model_module_version": "1.5.0",
            "_model_name": "HTMLModel",
            "_view_count": null,
            "_view_module": "@jupyter-widgets/controls",
            "_view_module_version": "1.5.0",
            "_view_name": "HTMLView",
            "description": "",
            "description_tooltip": null,
            "layout": "IPY_MODEL_4c4436f22b364821ac774add915a8384",
            "placeholder": "​",
            "style": "IPY_MODEL_498a539af3bd4d69aa514476943d58e9",
            "value": ""
          }
        },
        "67d5fd6e94174226899116c959517008": {
          "model_module": "@jupyter-widgets/controls",
          "model_name": "FloatProgressModel",
          "model_module_version": "1.5.0",
          "state": {
            "_dom_classes": [],
            "_model_module": "@jupyter-widgets/controls",
            "_model_module_version": "1.5.0",
            "_model_name": "FloatProgressModel",
            "_view_count": null,
            "_view_module": "@jupyter-widgets/controls",
            "_view_module_version": "1.5.0",
            "_view_name": "ProgressView",
            "bar_style": "success",
            "description": "",
            "description_tooltip": null,
            "layout": "IPY_MODEL_4f4b73ce9e724d74a917d15a375e00b5",
            "max": 1,
            "min": 0,
            "orientation": "horizontal",
            "style": "IPY_MODEL_14f5cba7c5344e40917418daa0f2f204",
            "value": 1
          }
        },
        "29d5dcd737df4aba84915c30bc560f2f": {
          "model_module": "@jupyter-widgets/controls",
          "model_name": "HTMLModel",
          "model_module_version": "1.5.0",
          "state": {
            "_dom_classes": [],
            "_model_module": "@jupyter-widgets/controls",
            "_model_module_version": "1.5.0",
            "_model_name": "HTMLModel",
            "_view_count": null,
            "_view_module": "@jupyter-widgets/controls",
            "_view_module_version": "1.5.0",
            "_view_name": "HTMLView",
            "description": "",
            "description_tooltip": null,
            "layout": "IPY_MODEL_43ef6e65b18d47a5aadca36c07728a2e",
            "placeholder": "​",
            "style": "IPY_MODEL_6433e4288ec54d81bef1c31bff47036b",
            "value": " 360/? [00:01&lt;00:00, 295.55it/s]"
          }
        },
        "2b2f5d545ade4442a5d1010b840c6cd4": {
          "model_module": "@jupyter-widgets/base",
          "model_name": "LayoutModel",
          "model_module_version": "1.2.0",
          "state": {
            "_model_module": "@jupyter-widgets/base",
            "_model_module_version": "1.2.0",
            "_model_name": "LayoutModel",
            "_view_count": null,
            "_view_module": "@jupyter-widgets/base",
            "_view_module_version": "1.2.0",
            "_view_name": "LayoutView",
            "align_content": null,
            "align_items": null,
            "align_self": null,
            "border": null,
            "bottom": null,
            "display": null,
            "flex": null,
            "flex_flow": null,
            "grid_area": null,
            "grid_auto_columns": null,
            "grid_auto_flow": null,
            "grid_auto_rows": null,
            "grid_column": null,
            "grid_gap": null,
            "grid_row": null,
            "grid_template_areas": null,
            "grid_template_columns": null,
            "grid_template_rows": null,
            "height": null,
            "justify_content": null,
            "justify_items": null,
            "left": null,
            "margin": null,
            "max_height": null,
            "max_width": null,
            "min_height": null,
            "min_width": null,
            "object_fit": null,
            "object_position": null,
            "order": null,
            "overflow": null,
            "overflow_x": null,
            "overflow_y": null,
            "padding": null,
            "right": null,
            "top": null,
            "visibility": null,
            "width": null
          }
        },
        "4c4436f22b364821ac774add915a8384": {
          "model_module": "@jupyter-widgets/base",
          "model_name": "LayoutModel",
          "model_module_version": "1.2.0",
          "state": {
            "_model_module": "@jupyter-widgets/base",
            "_model_module_version": "1.2.0",
            "_model_name": "LayoutModel",
            "_view_count": null,
            "_view_module": "@jupyter-widgets/base",
            "_view_module_version": "1.2.0",
            "_view_name": "LayoutView",
            "align_content": null,
            "align_items": null,
            "align_self": null,
            "border": null,
            "bottom": null,
            "display": null,
            "flex": null,
            "flex_flow": null,
            "grid_area": null,
            "grid_auto_columns": null,
            "grid_auto_flow": null,
            "grid_auto_rows": null,
            "grid_column": null,
            "grid_gap": null,
            "grid_row": null,
            "grid_template_areas": null,
            "grid_template_columns": null,
            "grid_template_rows": null,
            "height": null,
            "justify_content": null,
            "justify_items": null,
            "left": null,
            "margin": null,
            "max_height": null,
            "max_width": null,
            "min_height": null,
            "min_width": null,
            "object_fit": null,
            "object_position": null,
            "order": null,
            "overflow": null,
            "overflow_x": null,
            "overflow_y": null,
            "padding": null,
            "right": null,
            "top": null,
            "visibility": null,
            "width": null
          }
        },
        "498a539af3bd4d69aa514476943d58e9": {
          "model_module": "@jupyter-widgets/controls",
          "model_name": "DescriptionStyleModel",
          "model_module_version": "1.5.0",
          "state": {
            "_model_module": "@jupyter-widgets/controls",
            "_model_module_version": "1.5.0",
            "_model_name": "DescriptionStyleModel",
            "_view_count": null,
            "_view_module": "@jupyter-widgets/base",
            "_view_module_version": "1.2.0",
            "_view_name": "StyleView",
            "description_width": ""
          }
        },
        "4f4b73ce9e724d74a917d15a375e00b5": {
          "model_module": "@jupyter-widgets/base",
          "model_name": "LayoutModel",
          "model_module_version": "1.2.0",
          "state": {
            "_model_module": "@jupyter-widgets/base",
            "_model_module_version": "1.2.0",
            "_model_name": "LayoutModel",
            "_view_count": null,
            "_view_module": "@jupyter-widgets/base",
            "_view_module_version": "1.2.0",
            "_view_name": "LayoutView",
            "align_content": null,
            "align_items": null,
            "align_self": null,
            "border": null,
            "bottom": null,
            "display": null,
            "flex": null,
            "flex_flow": null,
            "grid_area": null,
            "grid_auto_columns": null,
            "grid_auto_flow": null,
            "grid_auto_rows": null,
            "grid_column": null,
            "grid_gap": null,
            "grid_row": null,
            "grid_template_areas": null,
            "grid_template_columns": null,
            "grid_template_rows": null,
            "height": null,
            "justify_content": null,
            "justify_items": null,
            "left": null,
            "margin": null,
            "max_height": null,
            "max_width": null,
            "min_height": null,
            "min_width": null,
            "object_fit": null,
            "object_position": null,
            "order": null,
            "overflow": null,
            "overflow_x": null,
            "overflow_y": null,
            "padding": null,
            "right": null,
            "top": null,
            "visibility": null,
            "width": "20px"
          }
        },
        "14f5cba7c5344e40917418daa0f2f204": {
          "model_module": "@jupyter-widgets/controls",
          "model_name": "ProgressStyleModel",
          "model_module_version": "1.5.0",
          "state": {
            "_model_module": "@jupyter-widgets/controls",
            "_model_module_version": "1.5.0",
            "_model_name": "ProgressStyleModel",
            "_view_count": null,
            "_view_module": "@jupyter-widgets/base",
            "_view_module_version": "1.2.0",
            "_view_name": "StyleView",
            "bar_color": null,
            "description_width": ""
          }
        },
        "43ef6e65b18d47a5aadca36c07728a2e": {
          "model_module": "@jupyter-widgets/base",
          "model_name": "LayoutModel",
          "model_module_version": "1.2.0",
          "state": {
            "_model_module": "@jupyter-widgets/base",
            "_model_module_version": "1.2.0",
            "_model_name": "LayoutModel",
            "_view_count": null,
            "_view_module": "@jupyter-widgets/base",
            "_view_module_version": "1.2.0",
            "_view_name": "LayoutView",
            "align_content": null,
            "align_items": null,
            "align_self": null,
            "border": null,
            "bottom": null,
            "display": null,
            "flex": null,
            "flex_flow": null,
            "grid_area": null,
            "grid_auto_columns": null,
            "grid_auto_flow": null,
            "grid_auto_rows": null,
            "grid_column": null,
            "grid_gap": null,
            "grid_row": null,
            "grid_template_areas": null,
            "grid_template_columns": null,
            "grid_template_rows": null,
            "height": null,
            "justify_content": null,
            "justify_items": null,
            "left": null,
            "margin": null,
            "max_height": null,
            "max_width": null,
            "min_height": null,
            "min_width": null,
            "object_fit": null,
            "object_position": null,
            "order": null,
            "overflow": null,
            "overflow_x": null,
            "overflow_y": null,
            "padding": null,
            "right": null,
            "top": null,
            "visibility": null,
            "width": null
          }
        },
        "6433e4288ec54d81bef1c31bff47036b": {
          "model_module": "@jupyter-widgets/controls",
          "model_name": "DescriptionStyleModel",
          "model_module_version": "1.5.0",
          "state": {
            "_model_module": "@jupyter-widgets/controls",
            "_model_module_version": "1.5.0",
            "_model_name": "DescriptionStyleModel",
            "_view_count": null,
            "_view_module": "@jupyter-widgets/base",
            "_view_module_version": "1.2.0",
            "_view_name": "StyleView",
            "description_width": ""
          }
        },
        "a11e2164a26f46ef997cc8d9becf3795": {
          "model_module": "@jupyter-widgets/controls",
          "model_name": "HBoxModel",
          "model_module_version": "1.5.0",
          "state": {
            "_dom_classes": [],
            "_model_module": "@jupyter-widgets/controls",
            "_model_module_version": "1.5.0",
            "_model_name": "HBoxModel",
            "_view_count": null,
            "_view_module": "@jupyter-widgets/controls",
            "_view_module_version": "1.5.0",
            "_view_name": "HBoxView",
            "box_style": "",
            "children": [
              "IPY_MODEL_83022f3f0ede455badd2ebb9405b14d1",
              "IPY_MODEL_9542b35305d04a4789ebab8de1ab9415",
              "IPY_MODEL_1252d273f7df4c8bbee36eb29b4b524b"
            ],
            "layout": "IPY_MODEL_a7f54d9a78034400b4a6f3d2657e23f3"
          }
        },
        "83022f3f0ede455badd2ebb9405b14d1": {
          "model_module": "@jupyter-widgets/controls",
          "model_name": "HTMLModel",
          "model_module_version": "1.5.0",
          "state": {
            "_dom_classes": [],
            "_model_module": "@jupyter-widgets/controls",
            "_model_module_version": "1.5.0",
            "_model_name": "HTMLModel",
            "_view_count": null,
            "_view_module": "@jupyter-widgets/controls",
            "_view_module_version": "1.5.0",
            "_view_name": "HTMLView",
            "description": "",
            "description_tooltip": null,
            "layout": "IPY_MODEL_00d83795f913421386dac4250f8e84f9",
            "placeholder": "​",
            "style": "IPY_MODEL_a1995b7e907d4ee5ac669fc992635e19",
            "value": ""
          }
        },
        "9542b35305d04a4789ebab8de1ab9415": {
          "model_module": "@jupyter-widgets/controls",
          "model_name": "FloatProgressModel",
          "model_module_version": "1.5.0",
          "state": {
            "_dom_classes": [],
            "_model_module": "@jupyter-widgets/controls",
            "_model_module_version": "1.5.0",
            "_model_name": "FloatProgressModel",
            "_view_count": null,
            "_view_module": "@jupyter-widgets/controls",
            "_view_module_version": "1.5.0",
            "_view_name": "ProgressView",
            "bar_style": "success",
            "description": "",
            "description_tooltip": null,
            "layout": "IPY_MODEL_103fb58bf0b8400eaadcdd2d96f334c9",
            "max": 1,
            "min": 0,
            "orientation": "horizontal",
            "style": "IPY_MODEL_a6c210b79a5740d7ac053220f2ddd411",
            "value": 1
          }
        },
        "1252d273f7df4c8bbee36eb29b4b524b": {
          "model_module": "@jupyter-widgets/controls",
          "model_name": "HTMLModel",
          "model_module_version": "1.5.0",
          "state": {
            "_dom_classes": [],
            "_model_module": "@jupyter-widgets/controls",
            "_model_module_version": "1.5.0",
            "_model_name": "HTMLModel",
            "_view_count": null,
            "_view_module": "@jupyter-widgets/controls",
            "_view_module_version": "1.5.0",
            "_view_name": "HTMLView",
            "description": "",
            "description_tooltip": null,
            "layout": "IPY_MODEL_c044f32a08794ff6a4de0bb1f67c7b2e",
            "placeholder": "​",
            "style": "IPY_MODEL_50d34d3463a94d4ab2d1aa11500e04e5",
            "value": " 318/? [00:00&lt;00:00, 508.45it/s]"
          }
        },
        "a7f54d9a78034400b4a6f3d2657e23f3": {
          "model_module": "@jupyter-widgets/base",
          "model_name": "LayoutModel",
          "model_module_version": "1.2.0",
          "state": {
            "_model_module": "@jupyter-widgets/base",
            "_model_module_version": "1.2.0",
            "_model_name": "LayoutModel",
            "_view_count": null,
            "_view_module": "@jupyter-widgets/base",
            "_view_module_version": "1.2.0",
            "_view_name": "LayoutView",
            "align_content": null,
            "align_items": null,
            "align_self": null,
            "border": null,
            "bottom": null,
            "display": null,
            "flex": null,
            "flex_flow": null,
            "grid_area": null,
            "grid_auto_columns": null,
            "grid_auto_flow": null,
            "grid_auto_rows": null,
            "grid_column": null,
            "grid_gap": null,
            "grid_row": null,
            "grid_template_areas": null,
            "grid_template_columns": null,
            "grid_template_rows": null,
            "height": null,
            "justify_content": null,
            "justify_items": null,
            "left": null,
            "margin": null,
            "max_height": null,
            "max_width": null,
            "min_height": null,
            "min_width": null,
            "object_fit": null,
            "object_position": null,
            "order": null,
            "overflow": null,
            "overflow_x": null,
            "overflow_y": null,
            "padding": null,
            "right": null,
            "top": null,
            "visibility": null,
            "width": null
          }
        },
        "00d83795f913421386dac4250f8e84f9": {
          "model_module": "@jupyter-widgets/base",
          "model_name": "LayoutModel",
          "model_module_version": "1.2.0",
          "state": {
            "_model_module": "@jupyter-widgets/base",
            "_model_module_version": "1.2.0",
            "_model_name": "LayoutModel",
            "_view_count": null,
            "_view_module": "@jupyter-widgets/base",
            "_view_module_version": "1.2.0",
            "_view_name": "LayoutView",
            "align_content": null,
            "align_items": null,
            "align_self": null,
            "border": null,
            "bottom": null,
            "display": null,
            "flex": null,
            "flex_flow": null,
            "grid_area": null,
            "grid_auto_columns": null,
            "grid_auto_flow": null,
            "grid_auto_rows": null,
            "grid_column": null,
            "grid_gap": null,
            "grid_row": null,
            "grid_template_areas": null,
            "grid_template_columns": null,
            "grid_template_rows": null,
            "height": null,
            "justify_content": null,
            "justify_items": null,
            "left": null,
            "margin": null,
            "max_height": null,
            "max_width": null,
            "min_height": null,
            "min_width": null,
            "object_fit": null,
            "object_position": null,
            "order": null,
            "overflow": null,
            "overflow_x": null,
            "overflow_y": null,
            "padding": null,
            "right": null,
            "top": null,
            "visibility": null,
            "width": null
          }
        },
        "a1995b7e907d4ee5ac669fc992635e19": {
          "model_module": "@jupyter-widgets/controls",
          "model_name": "DescriptionStyleModel",
          "model_module_version": "1.5.0",
          "state": {
            "_model_module": "@jupyter-widgets/controls",
            "_model_module_version": "1.5.0",
            "_model_name": "DescriptionStyleModel",
            "_view_count": null,
            "_view_module": "@jupyter-widgets/base",
            "_view_module_version": "1.2.0",
            "_view_name": "StyleView",
            "description_width": ""
          }
        },
        "103fb58bf0b8400eaadcdd2d96f334c9": {
          "model_module": "@jupyter-widgets/base",
          "model_name": "LayoutModel",
          "model_module_version": "1.2.0",
          "state": {
            "_model_module": "@jupyter-widgets/base",
            "_model_module_version": "1.2.0",
            "_model_name": "LayoutModel",
            "_view_count": null,
            "_view_module": "@jupyter-widgets/base",
            "_view_module_version": "1.2.0",
            "_view_name": "LayoutView",
            "align_content": null,
            "align_items": null,
            "align_self": null,
            "border": null,
            "bottom": null,
            "display": null,
            "flex": null,
            "flex_flow": null,
            "grid_area": null,
            "grid_auto_columns": null,
            "grid_auto_flow": null,
            "grid_auto_rows": null,
            "grid_column": null,
            "grid_gap": null,
            "grid_row": null,
            "grid_template_areas": null,
            "grid_template_columns": null,
            "grid_template_rows": null,
            "height": null,
            "justify_content": null,
            "justify_items": null,
            "left": null,
            "margin": null,
            "max_height": null,
            "max_width": null,
            "min_height": null,
            "min_width": null,
            "object_fit": null,
            "object_position": null,
            "order": null,
            "overflow": null,
            "overflow_x": null,
            "overflow_y": null,
            "padding": null,
            "right": null,
            "top": null,
            "visibility": null,
            "width": "20px"
          }
        },
        "a6c210b79a5740d7ac053220f2ddd411": {
          "model_module": "@jupyter-widgets/controls",
          "model_name": "ProgressStyleModel",
          "model_module_version": "1.5.0",
          "state": {
            "_model_module": "@jupyter-widgets/controls",
            "_model_module_version": "1.5.0",
            "_model_name": "ProgressStyleModel",
            "_view_count": null,
            "_view_module": "@jupyter-widgets/base",
            "_view_module_version": "1.2.0",
            "_view_name": "StyleView",
            "bar_color": null,
            "description_width": ""
          }
        },
        "c044f32a08794ff6a4de0bb1f67c7b2e": {
          "model_module": "@jupyter-widgets/base",
          "model_name": "LayoutModel",
          "model_module_version": "1.2.0",
          "state": {
            "_model_module": "@jupyter-widgets/base",
            "_model_module_version": "1.2.0",
            "_model_name": "LayoutModel",
            "_view_count": null,
            "_view_module": "@jupyter-widgets/base",
            "_view_module_version": "1.2.0",
            "_view_name": "LayoutView",
            "align_content": null,
            "align_items": null,
            "align_self": null,
            "border": null,
            "bottom": null,
            "display": null,
            "flex": null,
            "flex_flow": null,
            "grid_area": null,
            "grid_auto_columns": null,
            "grid_auto_flow": null,
            "grid_auto_rows": null,
            "grid_column": null,
            "grid_gap": null,
            "grid_row": null,
            "grid_template_areas": null,
            "grid_template_columns": null,
            "grid_template_rows": null,
            "height": null,
            "justify_content": null,
            "justify_items": null,
            "left": null,
            "margin": null,
            "max_height": null,
            "max_width": null,
            "min_height": null,
            "min_width": null,
            "object_fit": null,
            "object_position": null,
            "order": null,
            "overflow": null,
            "overflow_x": null,
            "overflow_y": null,
            "padding": null,
            "right": null,
            "top": null,
            "visibility": null,
            "width": null
          }
        },
        "50d34d3463a94d4ab2d1aa11500e04e5": {
          "model_module": "@jupyter-widgets/controls",
          "model_name": "DescriptionStyleModel",
          "model_module_version": "1.5.0",
          "state": {
            "_model_module": "@jupyter-widgets/controls",
            "_model_module_version": "1.5.0",
            "_model_name": "DescriptionStyleModel",
            "_view_count": null,
            "_view_module": "@jupyter-widgets/base",
            "_view_module_version": "1.2.0",
            "_view_name": "StyleView",
            "description_width": ""
          }
        },
        "80d3d95e449f4cd4a645c21762eaa39f": {
          "model_module": "@jupyter-widgets/controls",
          "model_name": "HBoxModel",
          "model_module_version": "1.5.0",
          "state": {
            "_dom_classes": [],
            "_model_module": "@jupyter-widgets/controls",
            "_model_module_version": "1.5.0",
            "_model_name": "HBoxModel",
            "_view_count": null,
            "_view_module": "@jupyter-widgets/controls",
            "_view_module_version": "1.5.0",
            "_view_name": "HBoxView",
            "box_style": "",
            "children": [
              "IPY_MODEL_ebf1e9443a0a48088a59ebe8e8918837",
              "IPY_MODEL_174c9bd9215747809cb0f107ffbc1e39",
              "IPY_MODEL_7508827eda2c4dd1b1cc86a0aa93438f"
            ],
            "layout": "IPY_MODEL_3b5d958f5f7d43499f4b2586c6c12cac"
          }
        },
        "ebf1e9443a0a48088a59ebe8e8918837": {
          "model_module": "@jupyter-widgets/controls",
          "model_name": "HTMLModel",
          "model_module_version": "1.5.0",
          "state": {
            "_dom_classes": [],
            "_model_module": "@jupyter-widgets/controls",
            "_model_module_version": "1.5.0",
            "_model_name": "HTMLModel",
            "_view_count": null,
            "_view_module": "@jupyter-widgets/controls",
            "_view_module_version": "1.5.0",
            "_view_name": "HTMLView",
            "description": "",
            "description_tooltip": null,
            "layout": "IPY_MODEL_b813622b323b48fdb1492802f6a14825",
            "placeholder": "​",
            "style": "IPY_MODEL_1ad08003c46e488c8f926d3e7c2a1db2",
            "value": ""
          }
        },
        "174c9bd9215747809cb0f107ffbc1e39": {
          "model_module": "@jupyter-widgets/controls",
          "model_name": "FloatProgressModel",
          "model_module_version": "1.5.0",
          "state": {
            "_dom_classes": [],
            "_model_module": "@jupyter-widgets/controls",
            "_model_module_version": "1.5.0",
            "_model_name": "FloatProgressModel",
            "_view_count": null,
            "_view_module": "@jupyter-widgets/controls",
            "_view_module_version": "1.5.0",
            "_view_name": "ProgressView",
            "bar_style": "success",
            "description": "",
            "description_tooltip": null,
            "layout": "IPY_MODEL_3edd9ff840c24afc9d6f9822e4194a8d",
            "max": 1,
            "min": 0,
            "orientation": "horizontal",
            "style": "IPY_MODEL_8db087ca66e640dfa5e278bea4a0e86a",
            "value": 1
          }
        },
        "7508827eda2c4dd1b1cc86a0aa93438f": {
          "model_module": "@jupyter-widgets/controls",
          "model_name": "HTMLModel",
          "model_module_version": "1.5.0",
          "state": {
            "_dom_classes": [],
            "_model_module": "@jupyter-widgets/controls",
            "_model_module_version": "1.5.0",
            "_model_name": "HTMLModel",
            "_view_count": null,
            "_view_module": "@jupyter-widgets/controls",
            "_view_module_version": "1.5.0",
            "_view_name": "HTMLView",
            "description": "",
            "description_tooltip": null,
            "layout": "IPY_MODEL_db1801411c72405792f0e8e213591a08",
            "placeholder": "​",
            "style": "IPY_MODEL_a492339059384462bb6cfd70df1a6cdb",
            "value": " 318/? [08:06&lt;00:00,  1.26s/it]"
          }
        },
        "3b5d958f5f7d43499f4b2586c6c12cac": {
          "model_module": "@jupyter-widgets/base",
          "model_name": "LayoutModel",
          "model_module_version": "1.2.0",
          "state": {
            "_model_module": "@jupyter-widgets/base",
            "_model_module_version": "1.2.0",
            "_model_name": "LayoutModel",
            "_view_count": null,
            "_view_module": "@jupyter-widgets/base",
            "_view_module_version": "1.2.0",
            "_view_name": "LayoutView",
            "align_content": null,
            "align_items": null,
            "align_self": null,
            "border": null,
            "bottom": null,
            "display": null,
            "flex": null,
            "flex_flow": null,
            "grid_area": null,
            "grid_auto_columns": null,
            "grid_auto_flow": null,
            "grid_auto_rows": null,
            "grid_column": null,
            "grid_gap": null,
            "grid_row": null,
            "grid_template_areas": null,
            "grid_template_columns": null,
            "grid_template_rows": null,
            "height": null,
            "justify_content": null,
            "justify_items": null,
            "left": null,
            "margin": null,
            "max_height": null,
            "max_width": null,
            "min_height": null,
            "min_width": null,
            "object_fit": null,
            "object_position": null,
            "order": null,
            "overflow": null,
            "overflow_x": null,
            "overflow_y": null,
            "padding": null,
            "right": null,
            "top": null,
            "visibility": null,
            "width": null
          }
        },
        "b813622b323b48fdb1492802f6a14825": {
          "model_module": "@jupyter-widgets/base",
          "model_name": "LayoutModel",
          "model_module_version": "1.2.0",
          "state": {
            "_model_module": "@jupyter-widgets/base",
            "_model_module_version": "1.2.0",
            "_model_name": "LayoutModel",
            "_view_count": null,
            "_view_module": "@jupyter-widgets/base",
            "_view_module_version": "1.2.0",
            "_view_name": "LayoutView",
            "align_content": null,
            "align_items": null,
            "align_self": null,
            "border": null,
            "bottom": null,
            "display": null,
            "flex": null,
            "flex_flow": null,
            "grid_area": null,
            "grid_auto_columns": null,
            "grid_auto_flow": null,
            "grid_auto_rows": null,
            "grid_column": null,
            "grid_gap": null,
            "grid_row": null,
            "grid_template_areas": null,
            "grid_template_columns": null,
            "grid_template_rows": null,
            "height": null,
            "justify_content": null,
            "justify_items": null,
            "left": null,
            "margin": null,
            "max_height": null,
            "max_width": null,
            "min_height": null,
            "min_width": null,
            "object_fit": null,
            "object_position": null,
            "order": null,
            "overflow": null,
            "overflow_x": null,
            "overflow_y": null,
            "padding": null,
            "right": null,
            "top": null,
            "visibility": null,
            "width": null
          }
        },
        "1ad08003c46e488c8f926d3e7c2a1db2": {
          "model_module": "@jupyter-widgets/controls",
          "model_name": "DescriptionStyleModel",
          "model_module_version": "1.5.0",
          "state": {
            "_model_module": "@jupyter-widgets/controls",
            "_model_module_version": "1.5.0",
            "_model_name": "DescriptionStyleModel",
            "_view_count": null,
            "_view_module": "@jupyter-widgets/base",
            "_view_module_version": "1.2.0",
            "_view_name": "StyleView",
            "description_width": ""
          }
        },
        "3edd9ff840c24afc9d6f9822e4194a8d": {
          "model_module": "@jupyter-widgets/base",
          "model_name": "LayoutModel",
          "model_module_version": "1.2.0",
          "state": {
            "_model_module": "@jupyter-widgets/base",
            "_model_module_version": "1.2.0",
            "_model_name": "LayoutModel",
            "_view_count": null,
            "_view_module": "@jupyter-widgets/base",
            "_view_module_version": "1.2.0",
            "_view_name": "LayoutView",
            "align_content": null,
            "align_items": null,
            "align_self": null,
            "border": null,
            "bottom": null,
            "display": null,
            "flex": null,
            "flex_flow": null,
            "grid_area": null,
            "grid_auto_columns": null,
            "grid_auto_flow": null,
            "grid_auto_rows": null,
            "grid_column": null,
            "grid_gap": null,
            "grid_row": null,
            "grid_template_areas": null,
            "grid_template_columns": null,
            "grid_template_rows": null,
            "height": null,
            "justify_content": null,
            "justify_items": null,
            "left": null,
            "margin": null,
            "max_height": null,
            "max_width": null,
            "min_height": null,
            "min_width": null,
            "object_fit": null,
            "object_position": null,
            "order": null,
            "overflow": null,
            "overflow_x": null,
            "overflow_y": null,
            "padding": null,
            "right": null,
            "top": null,
            "visibility": null,
            "width": "20px"
          }
        },
        "8db087ca66e640dfa5e278bea4a0e86a": {
          "model_module": "@jupyter-widgets/controls",
          "model_name": "ProgressStyleModel",
          "model_module_version": "1.5.0",
          "state": {
            "_model_module": "@jupyter-widgets/controls",
            "_model_module_version": "1.5.0",
            "_model_name": "ProgressStyleModel",
            "_view_count": null,
            "_view_module": "@jupyter-widgets/base",
            "_view_module_version": "1.2.0",
            "_view_name": "StyleView",
            "bar_color": null,
            "description_width": ""
          }
        },
        "db1801411c72405792f0e8e213591a08": {
          "model_module": "@jupyter-widgets/base",
          "model_name": "LayoutModel",
          "model_module_version": "1.2.0",
          "state": {
            "_model_module": "@jupyter-widgets/base",
            "_model_module_version": "1.2.0",
            "_model_name": "LayoutModel",
            "_view_count": null,
            "_view_module": "@jupyter-widgets/base",
            "_view_module_version": "1.2.0",
            "_view_name": "LayoutView",
            "align_content": null,
            "align_items": null,
            "align_self": null,
            "border": null,
            "bottom": null,
            "display": null,
            "flex": null,
            "flex_flow": null,
            "grid_area": null,
            "grid_auto_columns": null,
            "grid_auto_flow": null,
            "grid_auto_rows": null,
            "grid_column": null,
            "grid_gap": null,
            "grid_row": null,
            "grid_template_areas": null,
            "grid_template_columns": null,
            "grid_template_rows": null,
            "height": null,
            "justify_content": null,
            "justify_items": null,
            "left": null,
            "margin": null,
            "max_height": null,
            "max_width": null,
            "min_height": null,
            "min_width": null,
            "object_fit": null,
            "object_position": null,
            "order": null,
            "overflow": null,
            "overflow_x": null,
            "overflow_y": null,
            "padding": null,
            "right": null,
            "top": null,
            "visibility": null,
            "width": null
          }
        },
        "a492339059384462bb6cfd70df1a6cdb": {
          "model_module": "@jupyter-widgets/controls",
          "model_name": "DescriptionStyleModel",
          "model_module_version": "1.5.0",
          "state": {
            "_model_module": "@jupyter-widgets/controls",
            "_model_module_version": "1.5.0",
            "_model_name": "DescriptionStyleModel",
            "_view_count": null,
            "_view_module": "@jupyter-widgets/base",
            "_view_module_version": "1.2.0",
            "_view_name": "StyleView",
            "description_width": ""
          }
        }
      }
    },
    "accelerator": "GPU"
  },
  "cells": [
    {
      "cell_type": "markdown",
      "source": [
        "This notebook along with corresponding github repository is concerned on my solution of Kontur 2023 internship task.\n",
        "\n",
        "\n",
        "The task was to find a substring in a document that matches to the label given for each text. This is a classical NER task, only with custom labels. I used [SpaCy](https://spacy.io/) library to solve it which I think is very good instrument for uncomplicated NER problems."
      ],
      "metadata": {
        "id": "XFLyX3-dJHW-"
      }
    },
    {
      "cell_type": "markdown",
      "source": [
        "##Git stuff\n"
      ],
      "metadata": {
        "id": "bNjz9X6l5x5X"
      }
    },
    {
      "cell_type": "code",
      "source": [
        "! git clone 'https://github.com/aassegai/Kontur23'\n",
        "import os\n",
        "os.chdir('Kontur23')"
      ],
      "metadata": {
        "colab": {
          "base_uri": "https://localhost:8080/"
        },
        "id": "mBhdCJxlSH5I",
        "outputId": "59ffd5f9-68eb-4794-bb19-b2e79c15e4f7"
      },
      "execution_count": null,
      "outputs": [
        {
          "output_type": "stream",
          "name": "stdout",
          "text": [
            "Cloning into 'Kontur23'...\n",
            "remote: Enumerating objects: 223, done.\u001b[K\n",
            "remote: Counting objects: 100% (223/223), done.\u001b[K\n",
            "remote: Compressing objects: 100% (152/152), done.\u001b[K\n",
            "remote: Total 223 (delta 80), reused 162 (delta 37), pack-reused 0\u001b[K\n",
            "Receiving objects: 100% (223/223), 1.38 MiB | 6.27 MiB/s, done.\n",
            "Resolving deltas: 100% (80/80), done.\n"
          ]
        }
      ]
    },
    {
      "cell_type": "markdown",
      "source": [
        "## Imports"
      ],
      "metadata": {
        "id": "cpD-pNFqtIeT"
      }
    },
    {
      "cell_type": "code",
      "source": [
        "%load_ext autoreload\n",
        "%autoreload 2"
      ],
      "metadata": {
        "id": "uOKQviCyfuTc"
      },
      "execution_count": null,
      "outputs": []
    },
    {
      "cell_type": "code",
      "source": [
        "! pip install pymorphy2"
      ],
      "metadata": {
        "colab": {
          "base_uri": "https://localhost:8080/"
        },
        "id": "fAHg7vO-AEXZ",
        "outputId": "80c8e45e-b982-4ba1-dde0-d7a1d241cd03"
      },
      "execution_count": null,
      "outputs": [
        {
          "output_type": "stream",
          "name": "stdout",
          "text": [
            "Looking in indexes: https://pypi.org/simple, https://us-python.pkg.dev/colab-wheels/public/simple/\n",
            "Collecting pymorphy2\n",
            "  Downloading pymorphy2-0.9.1-py3-none-any.whl (55 kB)\n",
            "\u001b[2K     \u001b[90m━━━━━━━━━━━━━━━━━━━━━━━━━━━━━━━━━━━━━━━━\u001b[0m \u001b[32m55.5/55.5 kB\u001b[0m \u001b[31m1.7 MB/s\u001b[0m eta \u001b[36m0:00:00\u001b[0m\n",
            "\u001b[?25hCollecting docopt>=0.6\n",
            "  Downloading docopt-0.6.2.tar.gz (25 kB)\n",
            "  Preparing metadata (setup.py) ... \u001b[?25l\u001b[?25hdone\n",
            "Collecting pymorphy2-dicts-ru<3.0,>=2.4\n",
            "  Downloading pymorphy2_dicts_ru-2.4.417127.4579844-py2.py3-none-any.whl (8.2 MB)\n",
            "\u001b[2K     \u001b[90m━━━━━━━━━━━━━━━━━━━━━━━━━━━━━━━━━━━━━━━━\u001b[0m \u001b[32m8.2/8.2 MB\u001b[0m \u001b[31m74.5 MB/s\u001b[0m eta \u001b[36m0:00:00\u001b[0m\n",
            "\u001b[?25hCollecting dawg-python>=0.7.1\n",
            "  Downloading DAWG_Python-0.7.2-py2.py3-none-any.whl (11 kB)\n",
            "Building wheels for collected packages: docopt\n",
            "  Building wheel for docopt (setup.py) ... \u001b[?25l\u001b[?25hdone\n",
            "  Created wheel for docopt: filename=docopt-0.6.2-py2.py3-none-any.whl size=13721 sha256=25bd46053bbd78c208f40eb40905ec0ee4cf9fbfba166eecaa7e9d3a357d74a3\n",
            "  Stored in directory: /root/.cache/pip/wheels/70/4a/46/1309fc853b8d395e60bafaf1b6df7845bdd82c95fd59dd8d2b\n",
            "Successfully built docopt\n",
            "Installing collected packages: pymorphy2-dicts-ru, docopt, dawg-python, pymorphy2\n",
            "Successfully installed dawg-python-0.7.2 docopt-0.6.2 pymorphy2-0.9.1 pymorphy2-dicts-ru-2.4.417127.4579844\n"
          ]
        }
      ]
    },
    {
      "cell_type": "code",
      "source": [
        "! pip install spacy --upgrade"
      ],
      "metadata": {
        "colab": {
          "base_uri": "https://localhost:8080/"
        },
        "id": "-b-uvEsesCVG",
        "outputId": "a91c0e46-d972-495e-a3e9-47c602628ba9"
      },
      "execution_count": null,
      "outputs": [
        {
          "output_type": "stream",
          "name": "stdout",
          "text": [
            "Looking in indexes: https://pypi.org/simple, https://us-python.pkg.dev/colab-wheels/public/simple/\n",
            "Requirement already satisfied: spacy in /usr/local/lib/python3.9/dist-packages (3.5.2)\n",
            "Requirement already satisfied: cymem<2.1.0,>=2.0.2 in /usr/local/lib/python3.9/dist-packages (from spacy) (2.0.7)\n",
            "Requirement already satisfied: murmurhash<1.1.0,>=0.28.0 in /usr/local/lib/python3.9/dist-packages (from spacy) (1.0.9)\n",
            "Requirement already satisfied: pydantic!=1.8,!=1.8.1,<1.11.0,>=1.7.4 in /usr/local/lib/python3.9/dist-packages (from spacy) (1.10.7)\n",
            "Requirement already satisfied: srsly<3.0.0,>=2.4.3 in /usr/local/lib/python3.9/dist-packages (from spacy) (2.4.6)\n",
            "Requirement already satisfied: langcodes<4.0.0,>=3.2.0 in /usr/local/lib/python3.9/dist-packages (from spacy) (3.3.0)\n",
            "Requirement already satisfied: requests<3.0.0,>=2.13.0 in /usr/local/lib/python3.9/dist-packages (from spacy) (2.27.1)\n",
            "Requirement already satisfied: spacy-legacy<3.1.0,>=3.0.11 in /usr/local/lib/python3.9/dist-packages (from spacy) (3.0.12)\n",
            "Requirement already satisfied: jinja2 in /usr/local/lib/python3.9/dist-packages (from spacy) (3.1.2)\n",
            "Requirement already satisfied: thinc<8.2.0,>=8.1.8 in /usr/local/lib/python3.9/dist-packages (from spacy) (8.1.9)\n",
            "Requirement already satisfied: numpy>=1.15.0 in /usr/local/lib/python3.9/dist-packages (from spacy) (1.22.4)\n",
            "Requirement already satisfied: spacy-loggers<2.0.0,>=1.0.0 in /usr/local/lib/python3.9/dist-packages (from spacy) (1.0.4)\n",
            "Requirement already satisfied: tqdm<5.0.0,>=4.38.0 in /usr/local/lib/python3.9/dist-packages (from spacy) (4.65.0)\n",
            "Requirement already satisfied: setuptools in /usr/local/lib/python3.9/dist-packages (from spacy) (67.6.1)\n",
            "Requirement already satisfied: wasabi<1.2.0,>=0.9.1 in /usr/local/lib/python3.9/dist-packages (from spacy) (1.1.1)\n",
            "Requirement already satisfied: preshed<3.1.0,>=3.0.2 in /usr/local/lib/python3.9/dist-packages (from spacy) (3.0.8)\n",
            "Requirement already satisfied: typer<0.8.0,>=0.3.0 in /usr/local/lib/python3.9/dist-packages (from spacy) (0.7.0)\n",
            "Requirement already satisfied: smart-open<7.0.0,>=5.2.1 in /usr/local/lib/python3.9/dist-packages (from spacy) (6.3.0)\n",
            "Requirement already satisfied: packaging>=20.0 in /usr/local/lib/python3.9/dist-packages (from spacy) (23.1)\n",
            "Requirement already satisfied: catalogue<2.1.0,>=2.0.6 in /usr/local/lib/python3.9/dist-packages (from spacy) (2.0.8)\n",
            "Requirement already satisfied: pathy>=0.10.0 in /usr/local/lib/python3.9/dist-packages (from spacy) (0.10.1)\n",
            "Requirement already satisfied: typing-extensions>=4.2.0 in /usr/local/lib/python3.9/dist-packages (from pydantic!=1.8,!=1.8.1,<1.11.0,>=1.7.4->spacy) (4.5.0)\n",
            "Requirement already satisfied: urllib3<1.27,>=1.21.1 in /usr/local/lib/python3.9/dist-packages (from requests<3.0.0,>=2.13.0->spacy) (1.26.15)\n",
            "Requirement already satisfied: charset-normalizer~=2.0.0 in /usr/local/lib/python3.9/dist-packages (from requests<3.0.0,>=2.13.0->spacy) (2.0.12)\n",
            "Requirement already satisfied: certifi>=2017.4.17 in /usr/local/lib/python3.9/dist-packages (from requests<3.0.0,>=2.13.0->spacy) (2022.12.7)\n",
            "Requirement already satisfied: idna<4,>=2.5 in /usr/local/lib/python3.9/dist-packages (from requests<3.0.0,>=2.13.0->spacy) (3.4)\n",
            "Requirement already satisfied: blis<0.8.0,>=0.7.8 in /usr/local/lib/python3.9/dist-packages (from thinc<8.2.0,>=8.1.8->spacy) (0.7.9)\n",
            "Requirement already satisfied: confection<1.0.0,>=0.0.1 in /usr/local/lib/python3.9/dist-packages (from thinc<8.2.0,>=8.1.8->spacy) (0.0.4)\n",
            "Requirement already satisfied: click<9.0.0,>=7.1.1 in /usr/local/lib/python3.9/dist-packages (from typer<0.8.0,>=0.3.0->spacy) (8.1.3)\n",
            "Requirement already satisfied: MarkupSafe>=2.0 in /usr/local/lib/python3.9/dist-packages (from jinja2->spacy) (2.1.2)\n"
          ]
        }
      ]
    },
    {
      "cell_type": "code",
      "source": [
        "! pip install spacy[transformers]"
      ],
      "metadata": {
        "colab": {
          "base_uri": "https://localhost:8080/"
        },
        "id": "RXhdH_3Jt2BD",
        "outputId": "86b37c95-174e-4b76-bd9a-e8dd8ab3a32b"
      },
      "execution_count": null,
      "outputs": [
        {
          "output_type": "stream",
          "name": "stdout",
          "text": [
            "Looking in indexes: https://pypi.org/simple, https://us-python.pkg.dev/colab-wheels/public/simple/\n",
            "Requirement already satisfied: spacy[transformers] in /usr/local/lib/python3.9/dist-packages (3.5.2)\n",
            "Requirement already satisfied: spacy-loggers<2.0.0,>=1.0.0 in /usr/local/lib/python3.9/dist-packages (from spacy[transformers]) (1.0.4)\n",
            "Requirement already satisfied: pydantic!=1.8,!=1.8.1,<1.11.0,>=1.7.4 in /usr/local/lib/python3.9/dist-packages (from spacy[transformers]) (1.10.7)\n",
            "Requirement already satisfied: cymem<2.1.0,>=2.0.2 in /usr/local/lib/python3.9/dist-packages (from spacy[transformers]) (2.0.7)\n",
            "Requirement already satisfied: langcodes<4.0.0,>=3.2.0 in /usr/local/lib/python3.9/dist-packages (from spacy[transformers]) (3.3.0)\n",
            "Requirement already satisfied: setuptools in /usr/local/lib/python3.9/dist-packages (from spacy[transformers]) (67.6.1)\n",
            "Requirement already satisfied: preshed<3.1.0,>=3.0.2 in /usr/local/lib/python3.9/dist-packages (from spacy[transformers]) (3.0.8)\n",
            "Requirement already satisfied: numpy>=1.15.0 in /usr/local/lib/python3.9/dist-packages (from spacy[transformers]) (1.22.4)\n",
            "Requirement already satisfied: thinc<8.2.0,>=8.1.8 in /usr/local/lib/python3.9/dist-packages (from spacy[transformers]) (8.1.9)\n",
            "Requirement already satisfied: packaging>=20.0 in /usr/local/lib/python3.9/dist-packages (from spacy[transformers]) (23.1)\n",
            "Requirement already satisfied: jinja2 in /usr/local/lib/python3.9/dist-packages (from spacy[transformers]) (3.1.2)\n",
            "Requirement already satisfied: catalogue<2.1.0,>=2.0.6 in /usr/local/lib/python3.9/dist-packages (from spacy[transformers]) (2.0.8)\n",
            "Requirement already satisfied: wasabi<1.2.0,>=0.9.1 in /usr/local/lib/python3.9/dist-packages (from spacy[transformers]) (1.1.1)\n",
            "Requirement already satisfied: requests<3.0.0,>=2.13.0 in /usr/local/lib/python3.9/dist-packages (from spacy[transformers]) (2.27.1)\n",
            "Requirement already satisfied: spacy-legacy<3.1.0,>=3.0.11 in /usr/local/lib/python3.9/dist-packages (from spacy[transformers]) (3.0.12)\n",
            "Requirement already satisfied: srsly<3.0.0,>=2.4.3 in /usr/local/lib/python3.9/dist-packages (from spacy[transformers]) (2.4.6)\n",
            "Requirement already satisfied: typer<0.8.0,>=0.3.0 in /usr/local/lib/python3.9/dist-packages (from spacy[transformers]) (0.7.0)\n",
            "Requirement already satisfied: tqdm<5.0.0,>=4.38.0 in /usr/local/lib/python3.9/dist-packages (from spacy[transformers]) (4.65.0)\n",
            "Requirement already satisfied: murmurhash<1.1.0,>=0.28.0 in /usr/local/lib/python3.9/dist-packages (from spacy[transformers]) (1.0.9)\n",
            "Requirement already satisfied: smart-open<7.0.0,>=5.2.1 in /usr/local/lib/python3.9/dist-packages (from spacy[transformers]) (6.3.0)\n",
            "Requirement already satisfied: pathy>=0.10.0 in /usr/local/lib/python3.9/dist-packages (from spacy[transformers]) (0.10.1)\n",
            "Collecting spacy-transformers<1.3.0,>=1.1.2\n",
            "  Downloading spacy_transformers-1.2.3-cp39-cp39-manylinux_2_17_x86_64.manylinux2014_x86_64.whl (193 kB)\n",
            "\u001b[2K     \u001b[90m━━━━━━━━━━━━━━━━━━━━━━━━━━━━━━━━━━━━━━\u001b[0m \u001b[32m193.7/193.7 kB\u001b[0m \u001b[31m12.9 MB/s\u001b[0m eta \u001b[36m0:00:00\u001b[0m\n",
            "\u001b[?25hRequirement already satisfied: typing-extensions>=4.2.0 in /usr/local/lib/python3.9/dist-packages (from pydantic!=1.8,!=1.8.1,<1.11.0,>=1.7.4->spacy[transformers]) (4.5.0)\n",
            "Requirement already satisfied: certifi>=2017.4.17 in /usr/local/lib/python3.9/dist-packages (from requests<3.0.0,>=2.13.0->spacy[transformers]) (2022.12.7)\n",
            "Requirement already satisfied: urllib3<1.27,>=1.21.1 in /usr/local/lib/python3.9/dist-packages (from requests<3.0.0,>=2.13.0->spacy[transformers]) (1.26.15)\n",
            "Requirement already satisfied: idna<4,>=2.5 in /usr/local/lib/python3.9/dist-packages (from requests<3.0.0,>=2.13.0->spacy[transformers]) (3.4)\n",
            "Requirement already satisfied: charset-normalizer~=2.0.0 in /usr/local/lib/python3.9/dist-packages (from requests<3.0.0,>=2.13.0->spacy[transformers]) (2.0.12)\n",
            "Collecting transformers<4.29.0,>=3.4.0\n",
            "  Downloading transformers-4.28.1-py3-none-any.whl (7.0 MB)\n",
            "\u001b[2K     \u001b[90m━━━━━━━━━━━━━━━━━━━━━━━━━━━━━━━━━━━━━━━━\u001b[0m \u001b[32m7.0/7.0 MB\u001b[0m \u001b[31m110.0 MB/s\u001b[0m eta \u001b[36m0:00:00\u001b[0m\n",
            "\u001b[?25hRequirement already satisfied: torch>=1.8.0 in /usr/local/lib/python3.9/dist-packages (from spacy-transformers<1.3.0,>=1.1.2->spacy[transformers]) (2.0.0+cu118)\n",
            "Collecting spacy-alignments<1.0.0,>=0.7.2\n",
            "  Downloading spacy_alignments-0.9.0-cp39-cp39-manylinux_2_17_x86_64.manylinux2014_x86_64.whl (1.2 MB)\n",
            "\u001b[2K     \u001b[90m━━━━━━━━━━━━━━━━━━━━━━━━━━━━━━━━━━━━━━━━\u001b[0m \u001b[32m1.2/1.2 MB\u001b[0m \u001b[31m68.9 MB/s\u001b[0m eta \u001b[36m0:00:00\u001b[0m\n",
            "\u001b[?25hRequirement already satisfied: blis<0.8.0,>=0.7.8 in /usr/local/lib/python3.9/dist-packages (from thinc<8.2.0,>=8.1.8->spacy[transformers]) (0.7.9)\n",
            "Requirement already satisfied: confection<1.0.0,>=0.0.1 in /usr/local/lib/python3.9/dist-packages (from thinc<8.2.0,>=8.1.8->spacy[transformers]) (0.0.4)\n",
            "Requirement already satisfied: click<9.0.0,>=7.1.1 in /usr/local/lib/python3.9/dist-packages (from typer<0.8.0,>=0.3.0->spacy[transformers]) (8.1.3)\n",
            "Requirement already satisfied: MarkupSafe>=2.0 in /usr/local/lib/python3.9/dist-packages (from jinja2->spacy[transformers]) (2.1.2)\n",
            "Requirement already satisfied: filelock in /usr/local/lib/python3.9/dist-packages (from torch>=1.8.0->spacy-transformers<1.3.0,>=1.1.2->spacy[transformers]) (3.11.0)\n",
            "Requirement already satisfied: networkx in /usr/local/lib/python3.9/dist-packages (from torch>=1.8.0->spacy-transformers<1.3.0,>=1.1.2->spacy[transformers]) (3.1)\n",
            "Requirement already satisfied: sympy in /usr/local/lib/python3.9/dist-packages (from torch>=1.8.0->spacy-transformers<1.3.0,>=1.1.2->spacy[transformers]) (1.11.1)\n",
            "Requirement already satisfied: triton==2.0.0 in /usr/local/lib/python3.9/dist-packages (from torch>=1.8.0->spacy-transformers<1.3.0,>=1.1.2->spacy[transformers]) (2.0.0)\n",
            "Requirement already satisfied: cmake in /usr/local/lib/python3.9/dist-packages (from triton==2.0.0->torch>=1.8.0->spacy-transformers<1.3.0,>=1.1.2->spacy[transformers]) (3.25.2)\n",
            "Requirement already satisfied: lit in /usr/local/lib/python3.9/dist-packages (from triton==2.0.0->torch>=1.8.0->spacy-transformers<1.3.0,>=1.1.2->spacy[transformers]) (16.0.1)\n",
            "Requirement already satisfied: regex!=2019.12.17 in /usr/local/lib/python3.9/dist-packages (from transformers<4.29.0,>=3.4.0->spacy-transformers<1.3.0,>=1.1.2->spacy[transformers]) (2022.10.31)\n",
            "Requirement already satisfied: pyyaml>=5.1 in /usr/local/lib/python3.9/dist-packages (from transformers<4.29.0,>=3.4.0->spacy-transformers<1.3.0,>=1.1.2->spacy[transformers]) (6.0)\n",
            "Collecting huggingface-hub<1.0,>=0.11.0\n",
            "  Downloading huggingface_hub-0.13.4-py3-none-any.whl (200 kB)\n",
            "\u001b[2K     \u001b[90m━━━━━━━━━━━━━━━━━━━━━━━━━━━━━━━━━━━━━━━\u001b[0m \u001b[32m200.1/200.1 kB\u001b[0m \u001b[31m9.6 MB/s\u001b[0m eta \u001b[36m0:00:00\u001b[0m\n",
            "\u001b[?25hCollecting tokenizers!=0.11.3,<0.14,>=0.11.1\n",
            "  Downloading tokenizers-0.13.3-cp39-cp39-manylinux_2_17_x86_64.manylinux2014_x86_64.whl (7.8 MB)\n",
            "\u001b[2K     \u001b[90m━━━━━━━━━━━━━━━━━━━━━━━━━━━━━━━━━━━━━━━━\u001b[0m \u001b[32m7.8/7.8 MB\u001b[0m \u001b[31m84.2 MB/s\u001b[0m eta \u001b[36m0:00:00\u001b[0m\n",
            "\u001b[?25hRequirement already satisfied: mpmath>=0.19 in /usr/local/lib/python3.9/dist-packages (from sympy->torch>=1.8.0->spacy-transformers<1.3.0,>=1.1.2->spacy[transformers]) (1.3.0)\n",
            "Installing collected packages: tokenizers, spacy-alignments, huggingface-hub, transformers, spacy-transformers\n",
            "Successfully installed huggingface-hub-0.13.4 spacy-alignments-0.9.0 spacy-transformers-1.2.3 tokenizers-0.13.3 transformers-4.28.1\n"
          ]
        }
      ]
    },
    {
      "cell_type": "code",
      "execution_count": null,
      "metadata": {
        "id": "rHxWQgEcJl81",
        "colab": {
          "base_uri": "https://localhost:8080/"
        },
        "outputId": "55ec26ad-9232-4267-ced2-a1b0c49ff8ab"
      },
      "outputs": [
        {
          "output_type": "stream",
          "name": "stderr",
          "text": [
            "[nltk_data] Downloading package wordnet to /root/nltk_data...\n",
            "[nltk_data] Downloading package omw-1.4 to /root/nltk_data...\n"
          ]
        }
      ],
      "source": [
        "import numpy as np\n",
        "import pandas as pd\n",
        "from tqdm.auto import tqdm\n",
        "import spacy\n",
        "from spacy import displacy\n",
        "import sklearn\n",
        "from sklearn.model_selection import train_test_split\n",
        "import seaborn as sns\n",
        "import matplotlib.pyplot as plt\n",
        "\n",
        "import re\n",
        "import nltk\n",
        "nltk.download('wordnet')\n",
        "nltk.download('omw-1.4')\n",
        "from nltk.stem import WordNetLemmatizer\n"
      ]
    },
    {
      "cell_type": "code",
      "source": [
        "'''\n",
        "Sometimes when GPU runtime is used an error appears during spacy installation\n",
        "NotImplementedError: A UTF-8 locale is required. Got ANSI_X3.4-1968\n",
        "This piece of code fixes this problem\n",
        "'''\n",
        "import locale\n",
        "if str(locale.getpreferredencoding()) != 'UTF-8':\n",
        "    def getpreferredencoding(do_setlocale = True):\n",
        "      return \"UTF-8\"\n",
        "    locale.getpreferredencoding = getpreferredencoding"
      ],
      "metadata": {
        "id": "E6xGojIL1uJb"
      },
      "execution_count": null,
      "outputs": []
    },
    {
      "cell_type": "code",
      "source": [
        "! python -m spacy download ru_core_news_sm"
      ],
      "metadata": {
        "colab": {
          "base_uri": "https://localhost:8080/"
        },
        "id": "q03ndwxesv4t",
        "outputId": "431ee39e-7f59-4e94-a70d-1810cdca17b7"
      },
      "execution_count": null,
      "outputs": [
        {
          "output_type": "stream",
          "name": "stdout",
          "text": [
            "2023-04-22 03:07:51.363507: W tensorflow/compiler/tf2tensorrt/utils/py_utils.cc:38] TF-TRT Warning: Could not find TensorRT\n",
            "Looking in indexes: https://pypi.org/simple, https://us-python.pkg.dev/colab-wheels/public/simple/\n",
            "Collecting ru-core-news-sm==3.5.0\n",
            "  Downloading https://github.com/explosion/spacy-models/releases/download/ru_core_news_sm-3.5.0/ru_core_news_sm-3.5.0-py3-none-any.whl (15.3 MB)\n",
            "\u001b[2K     \u001b[90m━━━━━━━━━━━━━━━━━━━━━━━━━━━━━━━━━━━━━━━━\u001b[0m \u001b[32m15.3/15.3 MB\u001b[0m \u001b[31m41.4 MB/s\u001b[0m eta \u001b[36m0:00:00\u001b[0m\n",
            "\u001b[?25hCollecting pymorphy3>=1.0.0\n",
            "  Downloading pymorphy3-1.2.0-py3-none-any.whl (55 kB)\n",
            "\u001b[2K     \u001b[90m━━━━━━━━━━━━━━━━━━━━━━━━━━━━━━━━━━━━━━━━\u001b[0m \u001b[32m55.4/55.4 kB\u001b[0m \u001b[31m4.9 MB/s\u001b[0m eta \u001b[36m0:00:00\u001b[0m\n",
            "\u001b[?25hRequirement already satisfied: spacy<3.6.0,>=3.5.0 in /usr/local/lib/python3.9/dist-packages (from ru-core-news-sm==3.5.0) (3.5.2)\n",
            "Requirement already satisfied: dawg-python>=0.7.1 in /usr/local/lib/python3.9/dist-packages (from pymorphy3>=1.0.0->ru-core-news-sm==3.5.0) (0.7.2)\n",
            "Collecting pymorphy3-dicts-ru\n",
            "  Downloading pymorphy3_dicts_ru-2.4.417150.4580142-py2.py3-none-any.whl (8.4 MB)\n",
            "\u001b[2K     \u001b[90m━━━━━━━━━━━━━━━━━━━━━━━━━━━━━━━━━━━━━━━━\u001b[0m \u001b[32m8.4/8.4 MB\u001b[0m \u001b[31m44.0 MB/s\u001b[0m eta \u001b[36m0:00:00\u001b[0m\n",
            "\u001b[?25hRequirement already satisfied: docopt>=0.6 in /usr/local/lib/python3.9/dist-packages (from pymorphy3>=1.0.0->ru-core-news-sm==3.5.0) (0.6.2)\n",
            "Requirement already satisfied: numpy>=1.15.0 in /usr/local/lib/python3.9/dist-packages (from spacy<3.6.0,>=3.5.0->ru-core-news-sm==3.5.0) (1.22.4)\n",
            "Requirement already satisfied: packaging>=20.0 in /usr/local/lib/python3.9/dist-packages (from spacy<3.6.0,>=3.5.0->ru-core-news-sm==3.5.0) (23.1)\n",
            "Requirement already satisfied: preshed<3.1.0,>=3.0.2 in /usr/local/lib/python3.9/dist-packages (from spacy<3.6.0,>=3.5.0->ru-core-news-sm==3.5.0) (3.0.8)\n",
            "Requirement already satisfied: smart-open<7.0.0,>=5.2.1 in /usr/local/lib/python3.9/dist-packages (from spacy<3.6.0,>=3.5.0->ru-core-news-sm==3.5.0) (6.3.0)\n",
            "Requirement already satisfied: jinja2 in /usr/local/lib/python3.9/dist-packages (from spacy<3.6.0,>=3.5.0->ru-core-news-sm==3.5.0) (3.1.2)\n",
            "Requirement already satisfied: pydantic!=1.8,!=1.8.1,<1.11.0,>=1.7.4 in /usr/local/lib/python3.9/dist-packages (from spacy<3.6.0,>=3.5.0->ru-core-news-sm==3.5.0) (1.10.7)\n",
            "Requirement already satisfied: tqdm<5.0.0,>=4.38.0 in /usr/local/lib/python3.9/dist-packages (from spacy<3.6.0,>=3.5.0->ru-core-news-sm==3.5.0) (4.65.0)\n",
            "Requirement already satisfied: langcodes<4.0.0,>=3.2.0 in /usr/local/lib/python3.9/dist-packages (from spacy<3.6.0,>=3.5.0->ru-core-news-sm==3.5.0) (3.3.0)\n",
            "Requirement already satisfied: wasabi<1.2.0,>=0.9.1 in /usr/local/lib/python3.9/dist-packages (from spacy<3.6.0,>=3.5.0->ru-core-news-sm==3.5.0) (1.1.1)\n",
            "Requirement already satisfied: spacy-legacy<3.1.0,>=3.0.11 in /usr/local/lib/python3.9/dist-packages (from spacy<3.6.0,>=3.5.0->ru-core-news-sm==3.5.0) (3.0.12)\n",
            "Requirement already satisfied: cymem<2.1.0,>=2.0.2 in /usr/local/lib/python3.9/dist-packages (from spacy<3.6.0,>=3.5.0->ru-core-news-sm==3.5.0) (2.0.7)\n",
            "Requirement already satisfied: setuptools in /usr/local/lib/python3.9/dist-packages (from spacy<3.6.0,>=3.5.0->ru-core-news-sm==3.5.0) (67.6.1)\n",
            "Requirement already satisfied: thinc<8.2.0,>=8.1.8 in /usr/local/lib/python3.9/dist-packages (from spacy<3.6.0,>=3.5.0->ru-core-news-sm==3.5.0) (8.1.9)\n",
            "Requirement already satisfied: typer<0.8.0,>=0.3.0 in /usr/local/lib/python3.9/dist-packages (from spacy<3.6.0,>=3.5.0->ru-core-news-sm==3.5.0) (0.7.0)\n",
            "Requirement already satisfied: srsly<3.0.0,>=2.4.3 in /usr/local/lib/python3.9/dist-packages (from spacy<3.6.0,>=3.5.0->ru-core-news-sm==3.5.0) (2.4.6)\n",
            "Requirement already satisfied: requests<3.0.0,>=2.13.0 in /usr/local/lib/python3.9/dist-packages (from spacy<3.6.0,>=3.5.0->ru-core-news-sm==3.5.0) (2.27.1)\n",
            "Requirement already satisfied: catalogue<2.1.0,>=2.0.6 in /usr/local/lib/python3.9/dist-packages (from spacy<3.6.0,>=3.5.0->ru-core-news-sm==3.5.0) (2.0.8)\n",
            "Requirement already satisfied: murmurhash<1.1.0,>=0.28.0 in /usr/local/lib/python3.9/dist-packages (from spacy<3.6.0,>=3.5.0->ru-core-news-sm==3.5.0) (1.0.9)\n",
            "Requirement already satisfied: pathy>=0.10.0 in /usr/local/lib/python3.9/dist-packages (from spacy<3.6.0,>=3.5.0->ru-core-news-sm==3.5.0) (0.10.1)\n",
            "Requirement already satisfied: spacy-loggers<2.0.0,>=1.0.0 in /usr/local/lib/python3.9/dist-packages (from spacy<3.6.0,>=3.5.0->ru-core-news-sm==3.5.0) (1.0.4)\n",
            "Requirement already satisfied: typing-extensions>=4.2.0 in /usr/local/lib/python3.9/dist-packages (from pydantic!=1.8,!=1.8.1,<1.11.0,>=1.7.4->spacy<3.6.0,>=3.5.0->ru-core-news-sm==3.5.0) (4.5.0)\n",
            "Requirement already satisfied: charset-normalizer~=2.0.0 in /usr/local/lib/python3.9/dist-packages (from requests<3.0.0,>=2.13.0->spacy<3.6.0,>=3.5.0->ru-core-news-sm==3.5.0) (2.0.12)\n",
            "Requirement already satisfied: idna<4,>=2.5 in /usr/local/lib/python3.9/dist-packages (from requests<3.0.0,>=2.13.0->spacy<3.6.0,>=3.5.0->ru-core-news-sm==3.5.0) (3.4)\n",
            "Requirement already satisfied: certifi>=2017.4.17 in /usr/local/lib/python3.9/dist-packages (from requests<3.0.0,>=2.13.0->spacy<3.6.0,>=3.5.0->ru-core-news-sm==3.5.0) (2022.12.7)\n",
            "Requirement already satisfied: urllib3<1.27,>=1.21.1 in /usr/local/lib/python3.9/dist-packages (from requests<3.0.0,>=2.13.0->spacy<3.6.0,>=3.5.0->ru-core-news-sm==3.5.0) (1.26.15)\n",
            "Requirement already satisfied: confection<1.0.0,>=0.0.1 in /usr/local/lib/python3.9/dist-packages (from thinc<8.2.0,>=8.1.8->spacy<3.6.0,>=3.5.0->ru-core-news-sm==3.5.0) (0.0.4)\n",
            "Requirement already satisfied: blis<0.8.0,>=0.7.8 in /usr/local/lib/python3.9/dist-packages (from thinc<8.2.0,>=8.1.8->spacy<3.6.0,>=3.5.0->ru-core-news-sm==3.5.0) (0.7.9)\n",
            "Requirement already satisfied: click<9.0.0,>=7.1.1 in /usr/local/lib/python3.9/dist-packages (from typer<0.8.0,>=0.3.0->spacy<3.6.0,>=3.5.0->ru-core-news-sm==3.5.0) (8.1.3)\n",
            "Requirement already satisfied: MarkupSafe>=2.0 in /usr/local/lib/python3.9/dist-packages (from jinja2->spacy<3.6.0,>=3.5.0->ru-core-news-sm==3.5.0) (2.1.2)\n",
            "Installing collected packages: pymorphy3-dicts-ru, pymorphy3, ru-core-news-sm\n",
            "Successfully installed pymorphy3-1.2.0 pymorphy3-dicts-ru-2.4.417150.4580142 ru-core-news-sm-3.5.0\n",
            "\u001b[38;5;2m✔ Download and installation successful\u001b[0m\n",
            "You can now load the package via spacy.load('ru_core_news_sm')\n"
          ]
        }
      ]
    },
    {
      "cell_type": "markdown",
      "source": [
        "## Preprocessing\n"
      ],
      "metadata": {
        "id": "7FnuNNzvtFpY"
      }
    },
    {
      "cell_type": "markdown",
      "source": [
        "Firstly, we need to preprocess data. There are 2 main ways to do this:\n",
        "\n",
        "\n",
        "*   Drop some items from train dataset which have inadequate text or annotation, too long annotation etc.\n",
        "*   Preprocess text and annotation itself: remove punctuation and stopwords, normalize words (lower-case, lemmatize)\n",
        "\n",
        "We will look at both cases further.\n",
        "\n"
      ],
      "metadata": {
        "id": "kC2rnRVo8zNb"
      }
    },
    {
      "cell_type": "code",
      "source": [
        "train_df = pd.read_json('./data/raw/train.json')\n",
        "test_df = pd.read_json('./data/raw/test.json')"
      ],
      "metadata": {
        "id": "LA_jvzq5JrQY"
      },
      "execution_count": null,
      "outputs": []
    },
    {
      "cell_type": "markdown",
      "source": [
        "Set validation set size close to the test set size."
      ],
      "metadata": {
        "id": "rr84rcaZJsMh"
      }
    },
    {
      "cell_type": "code",
      "source": [
        "train_df, val_df = train_test_split(train_df, test_size=0.2)\n",
        "val_df.set_index('id', inplace=True)"
      ],
      "metadata": {
        "id": "ZLTCqETaJqu_"
      },
      "execution_count": null,
      "outputs": []
    },
    {
      "cell_type": "code",
      "source": [
        "train_df"
      ],
      "metadata": {
        "colab": {
          "base_uri": "https://localhost:8080/",
          "height": 424
        },
        "id": "x55b_lF6_wwx",
        "outputId": "0aa62c72-7b0a-4ede-8200-8d4f2a1d75e6"
      },
      "execution_count": null,
      "outputs": [
        {
          "output_type": "execute_result",
          "data": {
            "text/plain": [
              "             id                                               text  \\\n",
              "541    63089751  № п/п Дополнительная информация 1 Наименование...   \n",
              "1339  689132062  Извещение о проведении электронного аукциона д...   \n",
              "1632  485503185  Версия с 04.07.2022 года У Т В Е Р Ж Д А Ю «Го...   \n",
              "261   578621849  Идентификационный код закупки: 222633005012063...   \n",
              "47    574654977  Извещение о проведении электронного аукциона д...   \n",
              "...         ...                                                ...   \n",
              "1785  627854560  ДОГОВОР ПОСТАВКИ ТМЦ № 100-10-05/______ г. Кра...   \n",
              "334   112910092  КОНТРАКТ<1> № ___ <2> на поставку продуктов пи...   \n",
              "160   627430961  Извещение о проведении электронного аукциона д...   \n",
              "931   496586369  ЧАСТЬ II ТОМ 2 «Информационная карта аукциона ...   \n",
              "999   553835917  18 «ОЗНАКОМЛЕН» Директор МУП «Тепло Коломны» _...   \n",
              "\n",
              "                                     label  \\\n",
              "541       обеспечение исполнения контракта   \n",
              "1339  обеспечение гарантийных обязательств   \n",
              "1632  обеспечение гарантийных обязательств   \n",
              "261       обеспечение исполнения контракта   \n",
              "47        обеспечение исполнения контракта   \n",
              "...                                    ...   \n",
              "1785  обеспечение гарантийных обязательств   \n",
              "334       обеспечение исполнения контракта   \n",
              "160       обеспечение исполнения контракта   \n",
              "931       обеспечение исполнения контракта   \n",
              "999       обеспечение исполнения контракта   \n",
              "\n",
              "                                         extracted_part  \n",
              "541   {'text': ['Участник закупки, с которым заключа...  \n",
              "1339  {'text': ['Размер обеспечения гарантийных обяз...  \n",
              "1632  {'text': [''], 'answer_start': [0], 'answer_en...  \n",
              "261   {'text': ['Размер обеспечение исполнения контр...  \n",
              "47    {'text': ['Размер обеспечения исполнения контр...  \n",
              "...                                                 ...  \n",
              "1785  {'text': [''], 'answer_start': [0], 'answer_en...  \n",
              "334   {'text': ['Обеспечение исполнения настоящего К...  \n",
              "160   {'text': ['Размер обеспечения исполнения контр...  \n",
              "931   {'text': ['Размер обеспечения исполнения Догов...  \n",
              "999   {'text': ['Обеспечение исполнения договора 5 %...  \n",
              "\n",
              "[1439 rows x 4 columns]"
            ],
            "text/html": [
              "\n",
              "  <div id=\"df-d942d8ba-46bb-4f48-a7b9-f63b985b8b0d\">\n",
              "    <div class=\"colab-df-container\">\n",
              "      <div>\n",
              "<style scoped>\n",
              "    .dataframe tbody tr th:only-of-type {\n",
              "        vertical-align: middle;\n",
              "    }\n",
              "\n",
              "    .dataframe tbody tr th {\n",
              "        vertical-align: top;\n",
              "    }\n",
              "\n",
              "    .dataframe thead th {\n",
              "        text-align: right;\n",
              "    }\n",
              "</style>\n",
              "<table border=\"1\" class=\"dataframe\">\n",
              "  <thead>\n",
              "    <tr style=\"text-align: right;\">\n",
              "      <th></th>\n",
              "      <th>id</th>\n",
              "      <th>text</th>\n",
              "      <th>label</th>\n",
              "      <th>extracted_part</th>\n",
              "    </tr>\n",
              "  </thead>\n",
              "  <tbody>\n",
              "    <tr>\n",
              "      <th>541</th>\n",
              "      <td>63089751</td>\n",
              "      <td>№ п/п Дополнительная информация 1 Наименование...</td>\n",
              "      <td>обеспечение исполнения контракта</td>\n",
              "      <td>{'text': ['Участник закупки, с которым заключа...</td>\n",
              "    </tr>\n",
              "    <tr>\n",
              "      <th>1339</th>\n",
              "      <td>689132062</td>\n",
              "      <td>Извещение о проведении электронного аукциона д...</td>\n",
              "      <td>обеспечение гарантийных обязательств</td>\n",
              "      <td>{'text': ['Размер обеспечения гарантийных обяз...</td>\n",
              "    </tr>\n",
              "    <tr>\n",
              "      <th>1632</th>\n",
              "      <td>485503185</td>\n",
              "      <td>Версия с 04.07.2022 года У Т В Е Р Ж Д А Ю «Го...</td>\n",
              "      <td>обеспечение гарантийных обязательств</td>\n",
              "      <td>{'text': [''], 'answer_start': [0], 'answer_en...</td>\n",
              "    </tr>\n",
              "    <tr>\n",
              "      <th>261</th>\n",
              "      <td>578621849</td>\n",
              "      <td>Идентификационный код закупки: 222633005012063...</td>\n",
              "      <td>обеспечение исполнения контракта</td>\n",
              "      <td>{'text': ['Размер обеспечение исполнения контр...</td>\n",
              "    </tr>\n",
              "    <tr>\n",
              "      <th>47</th>\n",
              "      <td>574654977</td>\n",
              "      <td>Извещение о проведении электронного аукциона д...</td>\n",
              "      <td>обеспечение исполнения контракта</td>\n",
              "      <td>{'text': ['Размер обеспечения исполнения контр...</td>\n",
              "    </tr>\n",
              "    <tr>\n",
              "      <th>...</th>\n",
              "      <td>...</td>\n",
              "      <td>...</td>\n",
              "      <td>...</td>\n",
              "      <td>...</td>\n",
              "    </tr>\n",
              "    <tr>\n",
              "      <th>1785</th>\n",
              "      <td>627854560</td>\n",
              "      <td>ДОГОВОР ПОСТАВКИ ТМЦ № 100-10-05/______ г. Кра...</td>\n",
              "      <td>обеспечение гарантийных обязательств</td>\n",
              "      <td>{'text': [''], 'answer_start': [0], 'answer_en...</td>\n",
              "    </tr>\n",
              "    <tr>\n",
              "      <th>334</th>\n",
              "      <td>112910092</td>\n",
              "      <td>КОНТРАКТ&lt;1&gt; № ___ &lt;2&gt; на поставку продуктов пи...</td>\n",
              "      <td>обеспечение исполнения контракта</td>\n",
              "      <td>{'text': ['Обеспечение исполнения настоящего К...</td>\n",
              "    </tr>\n",
              "    <tr>\n",
              "      <th>160</th>\n",
              "      <td>627430961</td>\n",
              "      <td>Извещение о проведении электронного аукциона д...</td>\n",
              "      <td>обеспечение исполнения контракта</td>\n",
              "      <td>{'text': ['Размер обеспечения исполнения контр...</td>\n",
              "    </tr>\n",
              "    <tr>\n",
              "      <th>931</th>\n",
              "      <td>496586369</td>\n",
              "      <td>ЧАСТЬ II ТОМ 2 «Информационная карта аукциона ...</td>\n",
              "      <td>обеспечение исполнения контракта</td>\n",
              "      <td>{'text': ['Размер обеспечения исполнения Догов...</td>\n",
              "    </tr>\n",
              "    <tr>\n",
              "      <th>999</th>\n",
              "      <td>553835917</td>\n",
              "      <td>18 «ОЗНАКОМЛЕН» Директор МУП «Тепло Коломны» _...</td>\n",
              "      <td>обеспечение исполнения контракта</td>\n",
              "      <td>{'text': ['Обеспечение исполнения договора 5 %...</td>\n",
              "    </tr>\n",
              "  </tbody>\n",
              "</table>\n",
              "<p>1439 rows × 4 columns</p>\n",
              "</div>\n",
              "      <button class=\"colab-df-convert\" onclick=\"convertToInteractive('df-d942d8ba-46bb-4f48-a7b9-f63b985b8b0d')\"\n",
              "              title=\"Convert this dataframe to an interactive table.\"\n",
              "              style=\"display:none;\">\n",
              "        \n",
              "  <svg xmlns=\"http://www.w3.org/2000/svg\" height=\"24px\"viewBox=\"0 0 24 24\"\n",
              "       width=\"24px\">\n",
              "    <path d=\"M0 0h24v24H0V0z\" fill=\"none\"/>\n",
              "    <path d=\"M18.56 5.44l.94 2.06.94-2.06 2.06-.94-2.06-.94-.94-2.06-.94 2.06-2.06.94zm-11 1L8.5 8.5l.94-2.06 2.06-.94-2.06-.94L8.5 2.5l-.94 2.06-2.06.94zm10 10l.94 2.06.94-2.06 2.06-.94-2.06-.94-.94-2.06-.94 2.06-2.06.94z\"/><path d=\"M17.41 7.96l-1.37-1.37c-.4-.4-.92-.59-1.43-.59-.52 0-1.04.2-1.43.59L10.3 9.45l-7.72 7.72c-.78.78-.78 2.05 0 2.83L4 21.41c.39.39.9.59 1.41.59.51 0 1.02-.2 1.41-.59l7.78-7.78 2.81-2.81c.8-.78.8-2.07 0-2.86zM5.41 20L4 18.59l7.72-7.72 1.47 1.35L5.41 20z\"/>\n",
              "  </svg>\n",
              "      </button>\n",
              "      \n",
              "  <style>\n",
              "    .colab-df-container {\n",
              "      display:flex;\n",
              "      flex-wrap:wrap;\n",
              "      gap: 12px;\n",
              "    }\n",
              "\n",
              "    .colab-df-convert {\n",
              "      background-color: #E8F0FE;\n",
              "      border: none;\n",
              "      border-radius: 50%;\n",
              "      cursor: pointer;\n",
              "      display: none;\n",
              "      fill: #1967D2;\n",
              "      height: 32px;\n",
              "      padding: 0 0 0 0;\n",
              "      width: 32px;\n",
              "    }\n",
              "\n",
              "    .colab-df-convert:hover {\n",
              "      background-color: #E2EBFA;\n",
              "      box-shadow: 0px 1px 2px rgba(60, 64, 67, 0.3), 0px 1px 3px 1px rgba(60, 64, 67, 0.15);\n",
              "      fill: #174EA6;\n",
              "    }\n",
              "\n",
              "    [theme=dark] .colab-df-convert {\n",
              "      background-color: #3B4455;\n",
              "      fill: #D2E3FC;\n",
              "    }\n",
              "\n",
              "    [theme=dark] .colab-df-convert:hover {\n",
              "      background-color: #434B5C;\n",
              "      box-shadow: 0px 1px 3px 1px rgba(0, 0, 0, 0.15);\n",
              "      filter: drop-shadow(0px 1px 2px rgba(0, 0, 0, 0.3));\n",
              "      fill: #FFFFFF;\n",
              "    }\n",
              "  </style>\n",
              "\n",
              "      <script>\n",
              "        const buttonEl =\n",
              "          document.querySelector('#df-d942d8ba-46bb-4f48-a7b9-f63b985b8b0d button.colab-df-convert');\n",
              "        buttonEl.style.display =\n",
              "          google.colab.kernel.accessAllowed ? 'block' : 'none';\n",
              "\n",
              "        async function convertToInteractive(key) {\n",
              "          const element = document.querySelector('#df-d942d8ba-46bb-4f48-a7b9-f63b985b8b0d');\n",
              "          const dataTable =\n",
              "            await google.colab.kernel.invokeFunction('convertToInteractive',\n",
              "                                                     [key], {});\n",
              "          if (!dataTable) return;\n",
              "\n",
              "          const docLinkHtml = 'Like what you see? Visit the ' +\n",
              "            '<a target=\"_blank\" href=https://colab.research.google.com/notebooks/data_table.ipynb>data table notebook</a>'\n",
              "            + ' to learn more about interactive tables.';\n",
              "          element.innerHTML = '';\n",
              "          dataTable['output_type'] = 'display_data';\n",
              "          await google.colab.output.renderOutput(dataTable, element);\n",
              "          const docLink = document.createElement('div');\n",
              "          docLink.innerHTML = docLinkHtml;\n",
              "          element.appendChild(docLink);\n",
              "        }\n",
              "      </script>\n",
              "    </div>\n",
              "  </div>\n",
              "  "
            ]
          },
          "metadata": {},
          "execution_count": 29
        }
      ]
    },
    {
      "cell_type": "markdown",
      "source": [
        "### Label disbalance check"
      ],
      "metadata": {
        "id": "H-22K982Q54R"
      }
    },
    {
      "cell_type": "markdown",
      "source": [
        "We obviously need to know if the labels are balanced in train dataset because if they're not (which is barely possible in case of 2 labels but still) we'll need to solve this problem with some specific methods like making custom loss function, distance-based pretraining of feature extractor (transformer in our case) etc."
      ],
      "metadata": {
        "id": "0tCK9JqqN5Iz"
      }
    },
    {
      "cell_type": "code",
      "source": [
        "idx_to_drop = [idx for idx, item in train_df.iterrows() if len(item.extracted_part['text']) == 0]"
      ],
      "metadata": {
        "id": "9HKYcnBPN43t"
      },
      "execution_count": null,
      "outputs": []
    },
    {
      "cell_type": "code",
      "source": [
        "data_check = train_df.drop(idx_to_drop)\n",
        "sns.histplot(data=data_check.label)"
      ],
      "metadata": {
        "colab": {
          "base_uri": "https://localhost:8080/",
          "height": 466
        },
        "id": "SzcquPc6PxiE",
        "outputId": "6cb34eda-db71-4ca1-937b-13e5ef204594"
      },
      "execution_count": null,
      "outputs": [
        {
          "output_type": "execute_result",
          "data": {
            "text/plain": [
              "<Axes: xlabel='label', ylabel='Count'>"
            ]
          },
          "metadata": {},
          "execution_count": 31
        },
        {
          "output_type": "display_data",
          "data": {
            "text/plain": [
              "<Figure size 640x480 with 1 Axes>"
            ],
            "image/png": "[encoded data removed]"
          },
          "metadata": {}
        }
      ]
    },
    {
      "cell_type": "markdown",
      "source": [
        "First class is smaller than second. However, difference is not that large to care about it so we will leave it as it is."
      ],
      "metadata": {
        "id": "dYWxaJfPQHuf"
      }
    },
    {
      "cell_type": "markdown",
      "source": [
        "### Text lengths check"
      ],
      "metadata": {
        "id": "2I27iLt0Q9SR"
      }
    },
    {
      "cell_type": "markdown",
      "source": [
        "Let's look at the texts and annotations lengths both in words and symbols. The reason of checking  symbol length is that the documents we have are either scanned from paper or were text documents and could have been copied improperly."
      ],
      "metadata": {
        "id": "rrpRgaqjCK6N"
      }
    },
    {
      "cell_type": "code",
      "source": [
        "text_lens_in_words = [len(item.text.split()) for _, item in train_df.iterrows()]\n",
        "text_lens_in_symbols = [len(item.text) for _, item in train_df.iterrows()]\n",
        "\n",
        "segment_lens_in_words = [len(item.extracted_part['text'][0].split()) for _, item in train_df.iterrows()]\n",
        "segment_lens_in_symbols = [len(item.extracted_part['text'][0]) for _, item in train_df.iterrows()] "
      ],
      "metadata": {
        "id": "CyoawjVGMEik"
      },
      "execution_count": null,
      "outputs": []
    },
    {
      "cell_type": "code",
      "source": [
        "fig, ax = plt.subplots(1, 2, figsize=(10,5))\n",
        "sns.histplot(ax=ax[0], data=text_lens_in_words)\n",
        "sns.histplot(ax=ax[1], data=text_lens_in_symbols)"
      ],
      "metadata": {
        "colab": {
          "base_uri": "https://localhost:8080/",
          "height": 462
        },
        "id": "eabVsKjwMVq6",
        "outputId": "b08343e9-a6d3-4a79-dd85-81fb3c21c0ba"
      },
      "execution_count": null,
      "outputs": [
        {
          "output_type": "execute_result",
          "data": {
            "text/plain": [
              "<Axes: ylabel='Count'>"
            ]
          },
          "metadata": {},
          "execution_count": 33
        },
        {
          "output_type": "display_data",
          "data": {
            "text/plain": [
              "<Figure size 1000x500 with 2 Axes>"
            ],
            "image/png": "[encoded data removed]"
          },
          "metadata": {}
        }
      ]
    },
    {
      "cell_type": "code",
      "source": [
        "fig, ax = plt.subplots(1, 2, figsize=(10,5))\n",
        "sns.histplot(ax=ax[0], data=segment_lens_in_words)\n",
        "sns.histplot(ax=ax[1], data=segment_lens_in_symbols)"
      ],
      "metadata": {
        "colab": {
          "base_uri": "https://localhost:8080/",
          "height": 462
        },
        "id": "tKP0TUAqPZGA",
        "outputId": "fc19c645-d09f-476d-ebe9-301a776b828a"
      },
      "execution_count": null,
      "outputs": [
        {
          "output_type": "execute_result",
          "data": {
            "text/plain": [
              "<Axes: ylabel='Count'>"
            ]
          },
          "metadata": {},
          "execution_count": 34
        },
        {
          "output_type": "display_data",
          "data": {
            "text/plain": [
              "<Figure size 1000x500 with 2 Axes>"
            ],
            "image/png": "[encoded data removed]"
          },
          "metadata": {}
        }
      ]
    },
    {
      "cell_type": "markdown",
      "source": [
        "As we can see, length distributions in words and symbols are pretty the same for both texts and annotations. There are no inadequate lengths but some pretty there are long annotations, let's look at them. "
      ],
      "metadata": {
        "id": "5LMXOtURGPNO"
      }
    },
    {
      "cell_type": "code",
      "source": [
        "for idx, item in train_df.iterrows():\n",
        "    if len(item.extracted_part['text'][0].split()) > 30:\n",
        "        print(item.extracted_part['text'][0]) "
      ],
      "metadata": {
        "colab": {
          "base_uri": "https://localhost:8080/"
        },
        "id": "1mzEiQGWGyKX",
        "outputId": "f3a35f04-93b3-4a68-8063-a9c3d15c15b2"
      },
      "execution_count": null,
      "outputs": [
        {
          "output_type": "stream",
          "name": "stdout",
          "text": [
            "Субподрядчик в качестве обеспечения надлежащего исполнения гарантийных обязательств по Договору предоставляет Подрядчику право на удержание в общем размере 2% от цены Договора (включая НДС), указанной в пункте 3.1. Договора (далее Гарантийное удержание).\n",
            "Подрядчик в срок до 10 (десяти) рабочих дней предоставляет Заказчику обеспечение гарантийных обязательств в соответствии с частью 2.2 статьи 96 Закона о контрактной системе в размере 1 процент начальной (максимальной) цены контракта/цены контракта, что составляет 62 577 рублей 00 копеек.\n",
            "Подрядчик обязан предоставить Заказчику обеспечение гарантийных обязательств на сумму ________ руб. (_______________ рублей __ копеек), что составляет 3 % от цены Договора, в форме _____________ (независимой гарантии или путем внесения денежных средств\n",
            "Требования к независимым гарантиям, предоставляемые в качестве обеспечения заявок, гарантийных обязательств и исполнения Договора Обеспечение исполнения Договора требуется в размере 10% (Десять) процентов от цены, по которой в соответствии с Федеральным законом № 44-ФЗ заключается Договор. В случае ес\n",
            "Если в извещении о закупке и (или) документации о закупке установлено требование к обеспечению исполнения договора, размер такого обеспечения: 1) не может превышать 5 процентов начальной (максимальной) цены договора (цены лота)\n",
            "до подписания итогового документа о приемке предоставляет Заказчику обеспечение гарантийных обязательств в соответствии с частью 2.2 статьи 96 Федерального закона № 44-ФЗ в размере 1,00 % от начальной (максимальной) цены контракта, что составляет: 7 800,00 руб.\n",
            "Подрядчик обязан предоставить Заказчику обеспечение гарантийных обязательств на сумму ________ руб. (_______________ рублей __ копеек), что составляет 0,1% от цены Договора, в форме _____________ (независимой гарантии или путем внесения денежных средств\n",
            "Подрядчик обязан предоставить Заказчику обеспечение гарантийных обязательств на сумму ________ руб. (_______________ рублей __ копеек), что составляет 0,1% от цены Договора, в форме _____________ (независимой гарантии или путем внесения денежных средств\n",
            "Если в извещении о закупке и (или) документации о закупке установлено требование к обеспечению исполнения договора, размер такого обеспечения: 1) не может превышать 5 процентов начальной (максимальной) цены договора (цены лота)\n",
            "Подрядчик в срок до 20 октября 2022 года предоставляет Заказчику обеспечение гарантийных обязательств в соответствии с частью 2.2 статьи 96 Закона о контрактной системе в размере 1% процентов начальной (максимальной) цены контракта, что составляет ________________________________.\n",
            "Подрядчик обязан предоставить Заказчику обеспечение гарантийных обязательств на сумму ________ руб. (_______________ рублей __ копеек), что составляет 0,1% от цены Договора, в форме _____________ (независимой гарантии или путем внесения денежных средств\n",
            "Поставщик/Исполнитель, в соответствии с закупочной документацией предоставляет Заказчику обеспечение исполнения договора в размере 5% (или 7,5 % при снижении сцены договора на 25 % и более) от начальной (максимальной) цены договора\n",
            "Гарантийное удержание является способом обеспечения надлежащего исполнения обязательств Принципала. Бенефициар производит выплату гарантийного удержания в размере 5% (пяти процентов) от Договорной цены Продукции с отсрочкой платежа не менее 30 и не более 60 календарных дней\n"
          ]
        }
      ]
    },
    {
      "cell_type": "markdown",
      "source": [
        "Actually nothing criminal here, some long annotations that we will not drop from the dataset."
      ],
      "metadata": {
        "id": "pJQU7tEDHJPO"
      }
    },
    {
      "cell_type": "markdown",
      "source": [
        "### Texts preprocessing"
      ],
      "metadata": {
        "id": "Yfs8KrmkREYQ"
      }
    },
    {
      "cell_type": "markdown",
      "source": [
        "Let's analyze the texts preprocessing. The common way is lower-case the text, remove the punctuation, stopwords etc, possibly normalize words.\n",
        "\n",
        "In our case punctuaton removal is very risky thing because we are solving the NER task and significant amount of entities contain punctuation, underlining and mathematical symbols. Same thing for stopwords: almost every single entity contatins more than one stopword (prepositions, unions etc.).\n",
        "\n",
        "Also stopwords removal is not actually worth it because of transformer attention mechanism which treat them like not important.\n",
        "\n",
        "De-capitalising words works good with -uncased models. Since all the models used are -cased it is pretty useless. It also can be bad for prediction quality because most of the documents contain proper nouns like names, cities and abbreviations and it is important to have them with a capital letter especially in russian language. \n",
        "\n",
        "Normalizing words (lemmatizing/stemming) is good decision for linear models with large vocabulary. However, since transformers are used here and they use BPE, normalization does not make lot of sense.\n",
        "\n"
      ],
      "metadata": {
        "id": "NurYCY0sLLGl"
      }
    },
    {
      "cell_type": "code",
      "source": [
        "# this module is used for preprocessing dataset with all options mentioned above\n",
        "from src.data_preprocessing.data_preprocessor import DataPreprocessor\n",
        "data_preprocessor = DataPreprocessor()"
      ],
      "metadata": {
        "id": "eV2l7Y5IUFPx"
      },
      "execution_count": null,
      "outputs": []
    },
    {
      "cell_type": "markdown",
      "source": [
        "Based on experiments results (see preprocessing_tests.ipynb) it is better to train the model with no preprocessing at all. \n",
        "\n",
        "*    Punctuation removal drops F1 almost twice. It probably happens not only because of their presence in the entities but also because of complex substrings that have punctuation inside (№____, 1234.56 etc.).\n",
        "\n",
        "*    Stopwords removal drops quality for 0.05-0.07 F1-score. Therefore we are not doing that. \n",
        "\n",
        "*    Word normalization as mentioned earlier is useless and affects validation scores badly too.\n",
        "\n",
        "*    Lower-casing words did it better on uncased models as expected. But best performing model is cased, and de-capitalisation drops 0.01-0.03 F1-score."
      ],
      "metadata": {
        "id": "hBRGroeSaYKD"
      }
    },
    {
      "cell_type": "code",
      "source": [
        "train_df = data_preprocessor(train_df, set_index_to_id=True)"
      ],
      "metadata": {
        "colab": {
          "base_uri": "https://localhost:8080/",
          "height": 49,
          "referenced_widgets": [
            "bd53e84725164c3c965e51ee3678d6a3",
            "2dbaf70f11424a04b8479feadbd536eb",
            "64b46313563647e39d5ff6066449ccad",
            "513401bcda06472bbe1d4f4480747bf8",
            "7936b7b44baf44658422b007bd6e85c8",
            "298168be0b994c909e79e1b0bbde82aa",
            "7065d5f3036641b282c5b5bbc96cfc94",
            "9a981356951f4dc2bbc9503ae8010e6e",
            "9e61dd6a65eb461297412fd5e813e7ab",
            "6e9e1362bb6d4e8188d8950bb5a677b5",
            "5a05e67a44034eb19f56c0d6d3f6674e"
          ]
        },
        "id": "98HRvI3CSENG",
        "outputId": "382942ec-2a92-49d1-cbc3-34fec3c78b0a"
      },
      "execution_count": null,
      "outputs": [
        {
          "output_type": "display_data",
          "data": {
            "text/plain": [
              "  0%|          | 0/1439 [00:00<?, ?it/s]"
            ],
            "application/vnd.jupyter.widget-view+json": {
              "version_major": 2,
              "version_minor": 0,
              "model_id": "bd53e84725164c3c965e51ee3678d6a3"
            }
          },
          "metadata": {}
        }
      ]
    },
    {
      "cell_type": "code",
      "source": [
        "train_df"
      ],
      "metadata": {
        "colab": {
          "base_uri": "https://localhost:8080/",
          "height": 455
        },
        "id": "POXnBuOPKM1M",
        "outputId": "c1d7b672-0581-494f-e092-5b51f18a16b0"
      },
      "execution_count": null,
      "outputs": [
        {
          "output_type": "execute_result",
          "data": {
            "text/plain": [
              "                                                        text  \\\n",
              "id                                                             \n",
              "63089751   № п/п Дополнительная информация 1 Наименование...   \n",
              "689132062  Извещение о проведении электронного аукциона д...   \n",
              "485503185  Версия с 04.07.2022 года У Т В Е Р Ж Д А Ю «Го...   \n",
              "578621849  Идентификационный код закупки: 222633005012063...   \n",
              "574654977  Извещение о проведении электронного аукциона д...   \n",
              "...                                                      ...   \n",
              "627854560  ДОГОВОР ПОСТАВКИ ТМЦ № 100-10-05/______ г. Кра...   \n",
              "112910092  КОНТРАКТ<1> № ___ <2> на поставку продуктов пи...   \n",
              "627430961  Извещение о проведении электронного аукциона д...   \n",
              "496586369  ЧАСТЬ II ТОМ 2 «Информационная карта аукциона ...   \n",
              "553835917  18 «ОЗНАКОМЛЕН» Директор МУП «Тепло Коломны» _...   \n",
              "\n",
              "                                          label  \\\n",
              "id                                                \n",
              "63089751       обеспечение исполнения контракта   \n",
              "689132062  обеспечение гарантийных обязательств   \n",
              "485503185  обеспечение гарантийных обязательств   \n",
              "578621849      обеспечение исполнения контракта   \n",
              "574654977      обеспечение исполнения контракта   \n",
              "...                                         ...   \n",
              "627854560  обеспечение гарантийных обязательств   \n",
              "112910092      обеспечение исполнения контракта   \n",
              "627430961      обеспечение исполнения контракта   \n",
              "496586369      обеспечение исполнения контракта   \n",
              "553835917      обеспечение исполнения контракта   \n",
              "\n",
              "                                              extracted_part  \n",
              "id                                                            \n",
              "63089751   {'answer_start': [1251], 'answer_end': [1405],...  \n",
              "689132062  {'answer_start': [1308], 'answer_end': [1378],...  \n",
              "485503185  {'answer_start': [0], 'answer_end': [0], 'text...  \n",
              "578621849  {'answer_start': [1309], 'answer_end': [1421],...  \n",
              "574654977  {'answer_start': [1303], 'answer_end': [1368],...  \n",
              "...                                                      ...  \n",
              "627854560  {'answer_start': [0], 'answer_end': [0], 'text...  \n",
              "112910092  {'answer_start': [1263], 'answer_end': [1332],...  \n",
              "627430961  {'answer_start': [1280], 'answer_end': [1326],...  \n",
              "496586369  {'answer_start': [1156], 'answer_end': [1261],...  \n",
              "553835917  {'answer_start': [1113], 'answer_end': [1187],...  \n",
              "\n",
              "[1439 rows x 3 columns]"
            ],
            "text/html": [
              "\n",
              "  <div id=\"df-6908ed85-5da8-4c4e-9203-d581ccaac9af\">\n",
              "    <div class=\"colab-df-container\">\n",
              "      <div>\n",
              "<style scoped>\n",
              "    .dataframe tbody tr th:only-of-type {\n",
              "        vertical-align: middle;\n",
              "    }\n",
              "\n",
              "    .dataframe tbody tr th {\n",
              "        vertical-align: top;\n",
              "    }\n",
              "\n",
              "    .dataframe thead th {\n",
              "        text-align: right;\n",
              "    }\n",
              "</style>\n",
              "<table border=\"1\" class=\"dataframe\">\n",
              "  <thead>\n",
              "    <tr style=\"text-align: right;\">\n",
              "      <th></th>\n",
              "      <th>text</th>\n",
              "      <th>label</th>\n",
              "      <th>extracted_part</th>\n",
              "    </tr>\n",
              "    <tr>\n",
              "      <th>id</th>\n",
              "      <th></th>\n",
              "      <th></th>\n",
              "      <th></th>\n",
              "    </tr>\n",
              "  </thead>\n",
              "  <tbody>\n",
              "    <tr>\n",
              "      <th>63089751</th>\n",
              "      <td>№ п/п Дополнительная информация 1 Наименование...</td>\n",
              "      <td>обеспечение исполнения контракта</td>\n",
              "      <td>{'answer_start': [1251], 'answer_end': [1405],...</td>\n",
              "    </tr>\n",
              "    <tr>\n",
              "      <th>689132062</th>\n",
              "      <td>Извещение о проведении электронного аукциона д...</td>\n",
              "      <td>обеспечение гарантийных обязательств</td>\n",
              "      <td>{'answer_start': [1308], 'answer_end': [1378],...</td>\n",
              "    </tr>\n",
              "    <tr>\n",
              "      <th>485503185</th>\n",
              "      <td>Версия с 04.07.2022 года У Т В Е Р Ж Д А Ю «Го...</td>\n",
              "      <td>обеспечение гарантийных обязательств</td>\n",
              "      <td>{'answer_start': [0], 'answer_end': [0], 'text...</td>\n",
              "    </tr>\n",
              "    <tr>\n",
              "      <th>578621849</th>\n",
              "      <td>Идентификационный код закупки: 222633005012063...</td>\n",
              "      <td>обеспечение исполнения контракта</td>\n",
              "      <td>{'answer_start': [1309], 'answer_end': [1421],...</td>\n",
              "    </tr>\n",
              "    <tr>\n",
              "      <th>574654977</th>\n",
              "      <td>Извещение о проведении электронного аукциона д...</td>\n",
              "      <td>обеспечение исполнения контракта</td>\n",
              "      <td>{'answer_start': [1303], 'answer_end': [1368],...</td>\n",
              "    </tr>\n",
              "    <tr>\n",
              "      <th>...</th>\n",
              "      <td>...</td>\n",
              "      <td>...</td>\n",
              "      <td>...</td>\n",
              "    </tr>\n",
              "    <tr>\n",
              "      <th>627854560</th>\n",
              "      <td>ДОГОВОР ПОСТАВКИ ТМЦ № 100-10-05/______ г. Кра...</td>\n",
              "      <td>обеспечение гарантийных обязательств</td>\n",
              "      <td>{'answer_start': [0], 'answer_end': [0], 'text...</td>\n",
              "    </tr>\n",
              "    <tr>\n",
              "      <th>112910092</th>\n",
              "      <td>КОНТРАКТ&lt;1&gt; № ___ &lt;2&gt; на поставку продуктов пи...</td>\n",
              "      <td>обеспечение исполнения контракта</td>\n",
              "      <td>{'answer_start': [1263], 'answer_end': [1332],...</td>\n",
              "    </tr>\n",
              "    <tr>\n",
              "      <th>627430961</th>\n",
              "      <td>Извещение о проведении электронного аукциона д...</td>\n",
              "      <td>обеспечение исполнения контракта</td>\n",
              "      <td>{'answer_start': [1280], 'answer_end': [1326],...</td>\n",
              "    </tr>\n",
              "    <tr>\n",
              "      <th>496586369</th>\n",
              "      <td>ЧАСТЬ II ТОМ 2 «Информационная карта аукциона ...</td>\n",
              "      <td>обеспечение исполнения контракта</td>\n",
              "      <td>{'answer_start': [1156], 'answer_end': [1261],...</td>\n",
              "    </tr>\n",
              "    <tr>\n",
              "      <th>553835917</th>\n",
              "      <td>18 «ОЗНАКОМЛЕН» Директор МУП «Тепло Коломны» _...</td>\n",
              "      <td>обеспечение исполнения контракта</td>\n",
              "      <td>{'answer_start': [1113], 'answer_end': [1187],...</td>\n",
              "    </tr>\n",
              "  </tbody>\n",
              "</table>\n",
              "<p>1439 rows × 3 columns</p>\n",
              "</div>\n",
              "      <button class=\"colab-df-convert\" onclick=\"convertToInteractive('df-6908ed85-5da8-4c4e-9203-d581ccaac9af')\"\n",
              "              title=\"Convert this dataframe to an interactive table.\"\n",
              "              style=\"display:none;\">\n",
              "        \n",
              "  <svg xmlns=\"http://www.w3.org/2000/svg\" height=\"24px\"viewBox=\"0 0 24 24\"\n",
              "       width=\"24px\">\n",
              "    <path d=\"M0 0h24v24H0V0z\" fill=\"none\"/>\n",
              "    <path d=\"M18.56 5.44l.94 2.06.94-2.06 2.06-.94-2.06-.94-.94-2.06-.94 2.06-2.06.94zm-11 1L8.5 8.5l.94-2.06 2.06-.94-2.06-.94L8.5 2.5l-.94 2.06-2.06.94zm10 10l.94 2.06.94-2.06 2.06-.94-2.06-.94-.94-2.06-.94 2.06-2.06.94z\"/><path d=\"M17.41 7.96l-1.37-1.37c-.4-.4-.92-.59-1.43-.59-.52 0-1.04.2-1.43.59L10.3 9.45l-7.72 7.72c-.78.78-.78 2.05 0 2.83L4 21.41c.39.39.9.59 1.41.59.51 0 1.02-.2 1.41-.59l7.78-7.78 2.81-2.81c.8-.78.8-2.07 0-2.86zM5.41 20L4 18.59l7.72-7.72 1.47 1.35L5.41 20z\"/>\n",
              "  </svg>\n",
              "      </button>\n",
              "      \n",
              "  <style>\n",
              "    .colab-df-container {\n",
              "      display:flex;\n",
              "      flex-wrap:wrap;\n",
              "      gap: 12px;\n",
              "    }\n",
              "\n",
              "    .colab-df-convert {\n",
              "      background-color: #E8F0FE;\n",
              "      border: none;\n",
              "      border-radius: 50%;\n",
              "      cursor: pointer;\n",
              "      display: none;\n",
              "      fill: #1967D2;\n",
              "      height: 32px;\n",
              "      padding: 0 0 0 0;\n",
              "      width: 32px;\n",
              "    }\n",
              "\n",
              "    .colab-df-convert:hover {\n",
              "      background-color: #E2EBFA;\n",
              "      box-shadow: 0px 1px 2px rgba(60, 64, 67, 0.3), 0px 1px 3px 1px rgba(60, 64, 67, 0.15);\n",
              "      fill: #174EA6;\n",
              "    }\n",
              "\n",
              "    [theme=dark] .colab-df-convert {\n",
              "      background-color: #3B4455;\n",
              "      fill: #D2E3FC;\n",
              "    }\n",
              "\n",
              "    [theme=dark] .colab-df-convert:hover {\n",
              "      background-color: #434B5C;\n",
              "      box-shadow: 0px 1px 3px 1px rgba(0, 0, 0, 0.15);\n",
              "      filter: drop-shadow(0px 1px 2px rgba(0, 0, 0, 0.3));\n",
              "      fill: #FFFFFF;\n",
              "    }\n",
              "  </style>\n",
              "\n",
              "      <script>\n",
              "        const buttonEl =\n",
              "          document.querySelector('#df-6908ed85-5da8-4c4e-9203-d581ccaac9af button.colab-df-convert');\n",
              "        buttonEl.style.display =\n",
              "          google.colab.kernel.accessAllowed ? 'block' : 'none';\n",
              "\n",
              "        async function convertToInteractive(key) {\n",
              "          const element = document.querySelector('#df-6908ed85-5da8-4c4e-9203-d581ccaac9af');\n",
              "          const dataTable =\n",
              "            await google.colab.kernel.invokeFunction('convertToInteractive',\n",
              "                                                     [key], {});\n",
              "          if (!dataTable) return;\n",
              "\n",
              "          const docLinkHtml = 'Like what you see? Visit the ' +\n",
              "            '<a target=\"_blank\" href=https://colab.research.google.com/notebooks/data_table.ipynb>data table notebook</a>'\n",
              "            + ' to learn more about interactive tables.';\n",
              "          element.innerHTML = '';\n",
              "          dataTable['output_type'] = 'display_data';\n",
              "          await google.colab.output.renderOutput(dataTable, element);\n",
              "          const docLink = document.createElement('div');\n",
              "          docLink.innerHTML = docLinkHtml;\n",
              "          element.appendChild(docLink);\n",
              "        }\n",
              "      </script>\n",
              "    </div>\n",
              "  </div>\n",
              "  "
            ]
          },
          "metadata": {},
          "execution_count": 38
        }
      ]
    },
    {
      "cell_type": "markdown",
      "source": [
        "## Model training"
      ],
      "metadata": {
        "id": "FHrtFADaCVeK"
      }
    },
    {
      "cell_type": "markdown",
      "source": [
        "Here we will do a bit more data preprocessing for using it in SpaCy model. \n",
        "\n",
        "There are some items that have blank annotations and spacy does bot allow that in dataset so we lose some training data. There are also some items in test set that should have not subtext to extract. \n",
        "\n",
        "In case of training data that's ok because we lose some training items but they're pretty useless since they have no consistent annotations.\n",
        " \n",
        "And in case of test set our model either should not see any substrings to extract or the label of the extracted part will not match the requested label so the problem is solved too."
      ],
      "metadata": {
        "id": "wS8kfirFVKSO"
      }
    },
    {
      "cell_type": "code",
      "source": [
        "for idx, row in train_df.iterrows():\n",
        "    train_df.loc[idx].extracted_part['label'] = row.label\n",
        "\n",
        "for idx, row in val_df.iterrows():\n",
        "    val_df.loc[idx].extracted_part['label'] = row.label"
      ],
      "metadata": {
        "id": "gvpbdgxno1EY"
      },
      "execution_count": null,
      "outputs": []
    },
    {
      "cell_type": "code",
      "source": [
        "from src.data_preprocessing.prepare_bin import prepare_bin\n",
        "prepare_bin(train_df)\n",
        "prepare_bin(val_df, mode='val')\n",
        "prepare_bin(test_df, mode='test')"
      ],
      "metadata": {
        "colab": {
          "base_uri": "https://localhost:8080/",
          "height": 165,
          "referenced_widgets": [
            "8193a39a0949443dba8d6012f42f3eb9",
            "93d9103f544148578851621367ae8720",
            "6dcb20782f9c4cfd9c1b4c3b9a14867b",
            "dfcb9babbb1049668294e343579251fa",
            "7784f5ea4f2449aaa1be4f564cbff44e",
            "d450d873a8d54a30b97a875b1e69b736",
            "fedd818d3d624c199420829832c8f99f",
            "41e21d76d1574f59bdcc67198b6a2630",
            "0614afc222454b0ea8e9a1b5bf26ad60",
            "bf62d1879988474f9808da210c61c5ee",
            "a8ff45006f2e4adeb6b16b6042eb175f",
            "9b0e511864d947dc9e7111cdc3bacbb0",
            "f22eb6f6617246e287f49e1b4729372f",
            "67d5fd6e94174226899116c959517008",
            "29d5dcd737df4aba84915c30bc560f2f",
            "2b2f5d545ade4442a5d1010b840c6cd4",
            "4c4436f22b364821ac774add915a8384",
            "498a539af3bd4d69aa514476943d58e9",
            "4f4b73ce9e724d74a917d15a375e00b5",
            "14f5cba7c5344e40917418daa0f2f204",
            "43ef6e65b18d47a5aadca36c07728a2e",
            "6433e4288ec54d81bef1c31bff47036b",
            "a11e2164a26f46ef997cc8d9becf3795",
            "83022f3f0ede455badd2ebb9405b14d1",
            "9542b35305d04a4789ebab8de1ab9415",
            "1252d273f7df4c8bbee36eb29b4b524b",
            "a7f54d9a78034400b4a6f3d2657e23f3",
            "00d83795f913421386dac4250f8e84f9",
            "a1995b7e907d4ee5ac669fc992635e19",
            "103fb58bf0b8400eaadcdd2d96f334c9",
            "a6c210b79a5740d7ac053220f2ddd411",
            "c044f32a08794ff6a4de0bb1f67c7b2e",
            "50d34d3463a94d4ab2d1aa11500e04e5"
          ]
        },
        "id": "lJFoMieVY8pQ",
        "outputId": "6d93a2e8-3080-496f-a1b2-656473c8ddb1"
      },
      "execution_count": null,
      "outputs": [
        {
          "output_type": "display_data",
          "data": {
            "text/plain": [
              "0it [00:00, ?it/s]"
            ],
            "application/vnd.jupyter.widget-view+json": {
              "version_major": 2,
              "version_minor": 0,
              "model_id": "8193a39a0949443dba8d6012f42f3eb9"
            }
          },
          "metadata": {}
        },
        {
          "output_type": "stream",
          "name": "stdout",
          "text": [
            "249 items had blank annotation and were skipped\n"
          ]
        },
        {
          "output_type": "display_data",
          "data": {
            "text/plain": [
              "0it [00:00, ?it/s]"
            ],
            "application/vnd.jupyter.widget-view+json": {
              "version_major": 2,
              "version_minor": 0,
              "model_id": "9b0e511864d947dc9e7111cdc3bacbb0"
            }
          },
          "metadata": {}
        },
        {
          "output_type": "stream",
          "name": "stdout",
          "text": [
            "58 items had blank annotation and were skipped\n"
          ]
        },
        {
          "output_type": "display_data",
          "data": {
            "text/plain": [
              "0it [00:00, ?it/s]"
            ],
            "application/vnd.jupyter.widget-view+json": {
              "version_major": 2,
              "version_minor": 0,
              "model_id": "a11e2164a26f46ef997cc8d9becf3795"
            }
          },
          "metadata": {}
        },
        {
          "output_type": "stream",
          "name": "stdout",
          "text": [
            "0 items had blank annotation and were skipped\n"
          ]
        }
      ]
    },
    {
      "cell_type": "markdown",
      "source": [
        "Why am I using spacy? Same reason i'd use the catboost instead of making decision trees with my hands. It works good, it is fast and easy to use. Since the task I'm solving is simple and straighforward there is no reason to make model by myself because no specific solutions are needed and stable instrument will be better."
      ],
      "metadata": {
        "id": "LcAHIFQ3YuI7"
      }
    },
    {
      "cell_type": "markdown",
      "source": [
        "Unfortunately, spacy models cannot be properly trained in jupyter-like notebooks without weird-looking code and probably some limitations. Instead of this we can use [SpaCy CLI](https://spacy.io/api/cli) which is used as python script.\n",
        "\n",
        "To use it we should firstly make the config file with training parameters. It also defines the model architecture. The best parameters I found are:\n",
        "\n",
        "\n",
        "*   (ai-forever) sberbank-ai/ruBert-base transformer\n",
        "*   initial learning rate $5 * 10^{-5}$ \n",
        "*   128 batch size\n",
        "*   dropout 0.35\n",
        "*   L2-regularization with 0.03 weight",
        "*   early stopping at 1200 evaluation steps without progress or at 15 training epochs\n",
        "\n",
        "Full user configuration can be seen in spacy_cfg.cfg file.\n",
        "\n",
        "I tested several transformers (DeepPavlov Bert and Roberta, sberai Bert/Roberta in base and large variants).Sberai ruBert-base was the best with not large margin from DeepPavlov ruBert-base-cased, but provided more stability while training. Large Bert and roberta from sber are very hard to put inside the kaggle/colab GPU and can be used only on very small batch sizes that makes training unbearably long. DeepPavlovs roberta trains longer than Bert and gives the same result minding other things being equal.  \n",
        "\n",
        "\n",
        "\n",
        "\n",
        " Script lower takes the file with user options and fills it with remaining parameters needed for training."
      ],
      "metadata": {
        "id": "FtW2oCvMXD9C"
      }
    },
    {
      "cell_type": "code",
      "source": [
        "! python -m spacy init fill-config ./src/model/spacy_cfg.cfg config.cfg"
      ],
      "metadata": {
        "colab": {
          "base_uri": "https://localhost:8080/"
        },
        "id": "HHY5sWk7ybRt",
        "outputId": "9b78c6bd-bb50-4a87-beef-356d26b68768"
      },
      "execution_count": null,
      "outputs": [
        {
          "output_type": "stream",
          "name": "stdout",
          "text": [
            "2023-04-22 07:14:43.238863: W tensorflow/compiler/tf2tensorrt/utils/py_utils.cc:38] TF-TRT Warning: Could not find TensorRT\n",
            "\u001b[38;5;2m✔ Auto-filled config with all values\u001b[0m\n",
            "\u001b[38;5;2m✔ Saved config\u001b[0m\n",
            "config.cfg\n",
            "You can now add your data and train your pipeline:\n",
            "python -m spacy train config.cfg --paths.train ./train.spacy --paths.dev ./dev.spacy\n"
          ]
        }
      ]
    },
    {
      "cell_type": "markdown",
      "source": [
        "Next script fits the model with given train and validation sets. Set --gpu-id to -1 for CPU training, to 0 for GPU."
      ],
      "metadata": {
        "id": "bXFxsc4AfJIo"
      }
    },
    {
      "cell_type": "code",
      "source": [
        "! python -m spacy train config.cfg --output ./ --paths.train ./train_dataset.spacy --paths.dev ./val_dataset.spacy --gpu-id 0"
      ],
      "metadata": {
        "id": "1r6tE687y_u8",
        "colab": {
          "base_uri": "https://localhost:8080/"
        },
        "outputId": "734879ef-84d6-4f8a-f5bb-231960b1df54"
      },
      "execution_count": null,
      "outputs": [
        {
          "output_type": "stream",
          "name": "stdout",
          "text": [
            "2023-04-22 07:14:55.901687: W tensorflow/compiler/tf2tensorrt/utils/py_utils.cc:38] TF-TRT Warning: Could not find TensorRT\n",
            "\u001b[38;5;4mℹ Saving to output directory: .\u001b[0m\n",
            "\u001b[38;5;4mℹ Using GPU: 0\u001b[0m\n",
            "\u001b[1m\n",
            "=========================== Initializing pipeline ===========================\u001b[0m\n",
            "[2023-04-22 07:15:02,908] [INFO] Set up nlp object from config\n",
            "[2023-04-22 07:15:02,919] [INFO] Pipeline: ['transformer', 'ner']\n",
            "[2023-04-22 07:15:02,922] [INFO] Created vocabulary\n",
            "[2023-04-22 07:15:02,923] [INFO] Finished initializing nlp object\n",
            "Some weights of the model checkpoint at sberbank-ai/ruBert-base were not used when initializing BertModel: ['cls.predictions.decoder.bias', 'cls.predictions.bias', 'cls.seq_relationship.weight', 'cls.predictions.decoder.weight', 'cls.predictions.transform.dense.bias', 'cls.predictions.transform.LayerNorm.bias', 'cls.predictions.transform.dense.weight', 'cls.seq_relationship.bias', 'cls.predictions.transform.LayerNorm.weight']\n",
            "- This IS expected if you are initializing BertModel from the checkpoint of a model trained on another task or with another architecture (e.g. initializing a BertForSequenceClassification model from a BertForPreTraining model).\n",
            "- This IS NOT expected if you are initializing BertModel from the checkpoint of a model that you expect to be exactly identical (initializing a BertForSequenceClassification model from a BertForSequenceClassification model).\n",
            "[2023-04-22 07:15:15,418] [INFO] Initialized pipeline components: ['transformer', 'ner']\n",
            "\u001b[38;5;2m✔ Initialized pipeline\u001b[0m\n",
            "\u001b[1m\n",
            "============================= Training pipeline =============================\u001b[0m\n",
            "\u001b[38;5;4mℹ Pipeline: ['transformer', 'ner']\u001b[0m\n",
            "\u001b[38;5;4mℹ Initial learn rate: 0.0\u001b[0m\n",
            "E    #       LOSS TRANS...  LOSS NER  ENTS_F  ENTS_P  ENTS_R  SCORE \n",
            "---  ------  -------------  --------  ------  ------  ------  ------\n",
            "Token indices sequence length is longer than the specified maximum sequence length for this model (565 > 512). Running this sequence through the model will result in indexing errors\n",
            "  0       0        2842.45   1260.15    0.00    0.00    0.00    0.00\n",
            "  1     400      336287.25  62051.28   63.19   64.16   62.25    0.63\n",
            "  2     800        2341.04   1748.16   71.94   67.64   76.82    0.72\n",
            "  3    1200        1387.22   1251.17   73.15   68.50   78.48    0.73\n",
            "  5    1600        1460.60   1008.81   71.90   68.36   75.83    0.72\n",
            "  6    2000         905.89    811.74   74.88   70.03   80.46    0.75\n",
            "  7    2400         524.60    570.50   76.45   74.53   78.48    0.76\n",
            "  9    2800         553.97    487.97   79.08   78.06   80.13    0.79\n",
            " 10    3200         432.49    492.79   79.73   80.00   79.47    0.80\n",
            " 11    3600         753.34    477.11   77.89   77.63   78.15    0.78\n",
            " 13    4000        2532.30    417.24   82.20   82.61   81.79    0.82\n",
            " 14    4400         266.02    329.75   80.86   80.59   81.13    0.81\n",
            "\u001b[38;5;2m✔ Saved pipeline to output directory\u001b[0m\n",
            "model-last\n"
          ]
        }
      ]
    },
    {
      "cell_type": "markdown",
      "source": [
        "## Model evaluation"
      ],
      "metadata": {
        "id": "IA_Qt_sDCbKD"
      }
    },
    {
      "cell_type": "markdown",
      "source": [
        "Let's load the best model spacy saved and predict the entities in the test dataset."
      ],
      "metadata": {
        "id": "PpiF3T7mvzNg"
      }
    },
    {
      "cell_type": "code",
      "source": [
        "nlp_ner = spacy.load(\"model-best\")"
      ],
      "metadata": {
        "id": "Snx1p_bEQsSy"
      },
      "execution_count": null,
      "outputs": []
    },
    {
      "cell_type": "code",
      "source": [
        "from src.model.predict import predict_entities\n",
        "preds = [predict_entities(nlp_ner, row.text, row.label) for _, row in tqdm(test_df.iterrows())]"
      ],
      "metadata": {
        "id": "86j8hCop4MGw",
        "colab": {
          "base_uri": "https://localhost:8080/",
          "height": 66,
          "referenced_widgets": [
            "80d3d95e449f4cd4a645c21762eaa39f",
            "ebf1e9443a0a48088a59ebe8e8918837",
            "174c9bd9215747809cb0f107ffbc1e39",
            "7508827eda2c4dd1b1cc86a0aa93438f",
            "3b5d958f5f7d43499f4b2586c6c12cac",
            "b813622b323b48fdb1492802f6a14825",
            "1ad08003c46e488c8f926d3e7c2a1db2",
            "3edd9ff840c24afc9d6f9822e4194a8d",
            "8db087ca66e640dfa5e278bea4a0e86a",
            "db1801411c72405792f0e8e213591a08",
            "a492339059384462bb6cfd70df1a6cdb"
          ]
        },
        "outputId": "e3628235-12d0-4aa2-a7e3-6baaa542866b"
      },
      "execution_count": null,
      "outputs": [
        {
          "output_type": "display_data",
          "data": {
            "text/plain": [
              "0it [00:00, ?it/s]"
            ],
            "application/vnd.jupyter.widget-view+json": {
              "version_major": 2,
              "version_minor": 0,
              "model_id": "80d3d95e449f4cd4a645c21762eaa39f"
            }
          },
          "metadata": {}
        },
        {
          "output_type": "stream",
          "name": "stderr",
          "text": [
            "Token indices sequence length is longer than the specified maximum sequence length for this model (560 > 512). Running this sequence through the model will result in indexing errors\n"
          ]
        }
      ]
    },
    {
      "cell_type": "code",
      "source": [
        "test_df['extracted_part'] = preds\n",
        "test_dict = test_df.to_dict(orient='rows')"
      ],
      "metadata": {
        "id": "_1Kv62YUCLsx",
        "colab": {
          "base_uri": "https://localhost:8080/"
        },
        "outputId": "091acc88-8c2c-4111-930c-e3085cd946e1"
      },
      "execution_count": null,
      "outputs": [
        {
          "output_type": "stream",
          "name": "stderr",
          "text": [
            "<ipython-input-77-d582a622d45e>:2: FutureWarning: Using short name for 'orient' is deprecated. Only the options: ('dict', list, 'series', 'split', 'records', 'index') will be used in a future version. Use one of the above to silence this warning.\n",
            "  test_dict = test_df.to_dict(orient='rows')\n"
          ]
        }
      ]
    },
    {
      "cell_type": "code",
      "source": [
        "import json\n",
        "with open('predictions.json', 'w', encoding='utf8') as output:\n",
        "    json.dump(test_dict, output, ensure_ascii=False)"
      ],
      "metadata": {
        "id": "aXlhEF57E2g-"
      },
      "execution_count": null,
      "outputs": []
    },
    {
      "cell_type": "code",
      "source": [
        "test_df.head(10)"
      ],
      "metadata": {
        "colab": {
          "base_uri": "https://localhost:8080/",
          "height": 363
        },
        "id": "DIrmc3NNib8U",
        "outputId": "6d37e394-78d0-4fa2-c4d6-7ccb1db95e6b"
      },
      "execution_count": null,
      "outputs": [
        {
          "output_type": "execute_result",
          "data": {
            "text/plain": [
              "          id                                               text  \\\n",
              "0  762883279  МУНИЦИПАЛЬНЫЙ КОНТРАКТ № ______ на оказание ус...   \n",
              "1  311837655  Извещение о проведении электронного аукциона д...   \n",
              "2  540954893  Идентификационный код закупки: 222633005300163...   \n",
              "3  274660397  Идентификационный код закупки: 222631202689463...   \n",
              "4  732742591  Идентификационный код закупки: 222637800031163...   \n",
              "5  102997495  Идентификационный код закупки: 222635001882363...   \n",
              "6  355078344  Идентификационный код закупки: 222635001881663...   \n",
              "7  803828087  Извещение о проведении электронного аукциона д...   \n",
              "8  285525147  Извещение о проведении электронного аукциона д...   \n",
              "9  321195392  Извещение о проведении электронного аукциона д...   \n",
              "\n",
              "                              label  \\\n",
              "0  обеспечение исполнения контракта   \n",
              "1  обеспечение исполнения контракта   \n",
              "2  обеспечение исполнения контракта   \n",
              "3  обеспечение исполнения контракта   \n",
              "4  обеспечение исполнения контракта   \n",
              "5  обеспечение исполнения контракта   \n",
              "6  обеспечение исполнения контракта   \n",
              "7  обеспечение исполнения контракта   \n",
              "8  обеспечение исполнения контракта   \n",
              "9  обеспечение исполнения контракта   \n",
              "\n",
              "                                      extracted_part  \n",
              "0  {'answer_start': [1283], 'answer_end': [1393],...  \n",
              "1  {'answer_start': [1291], 'answer_end': [1337],...  \n",
              "2  {'answer_start': [1300], 'answer_end': [1412],...  \n",
              "3  {'answer_start': [1312], 'answer_end': [1424],...  \n",
              "4  {'answer_start': [1314], 'answer_end': [1426],...  \n",
              "5  {'answer_start': [1304], 'answer_end': [1416],...  \n",
              "6  {'answer_start': [1315], 'answer_end': [1427],...  \n",
              "7  {'answer_start': [1312], 'answer_end': [1377],...  \n",
              "8  {'answer_start': [1291], 'answer_end': [1357],...  \n",
              "9  {'answer_start': [1295], 'answer_end': [1360],...  "
            ],
            "text/html": [
              "\n",
              "  <div id=\"df-35e69467-ae3f-4d23-8129-5cbd0e79aa32\">\n",
              "    <div class=\"colab-df-container\">\n",
              "      <div>\n",
              "<style scoped>\n",
              "    .dataframe tbody tr th:only-of-type {\n",
              "        vertical-align: middle;\n",
              "    }\n",
              "\n",
              "    .dataframe tbody tr th {\n",
              "        vertical-align: top;\n",
              "    }\n",
              "\n",
              "    .dataframe thead th {\n",
              "        text-align: right;\n",
              "    }\n",
              "</style>\n",
              "<table border=\"1\" class=\"dataframe\">\n",
              "  <thead>\n",
              "    <tr style=\"text-align: right;\">\n",
              "      <th></th>\n",
              "      <th>id</th>\n",
              "      <th>text</th>\n",
              "      <th>label</th>\n",
              "      <th>extracted_part</th>\n",
              "    </tr>\n",
              "  </thead>\n",
              "  <tbody>\n",
              "    <tr>\n",
              "      <th>0</th>\n",
              "      <td>762883279</td>\n",
              "      <td>МУНИЦИПАЛЬНЫЙ КОНТРАКТ № ______ на оказание ус...</td>\n",
              "      <td>обеспечение исполнения контракта</td>\n",
              "      <td>{'answer_start': [1283], 'answer_end': [1393],...</td>\n",
              "    </tr>\n",
              "    <tr>\n",
              "      <th>1</th>\n",
              "      <td>311837655</td>\n",
              "      <td>Извещение о проведении электронного аукциона д...</td>\n",
              "      <td>обеспечение исполнения контракта</td>\n",
              "      <td>{'answer_start': [1291], 'answer_end': [1337],...</td>\n",
              "    </tr>\n",
              "    <tr>\n",
              "      <th>2</th>\n",
              "      <td>540954893</td>\n",
              "      <td>Идентификационный код закупки: 222633005300163...</td>\n",
              "      <td>обеспечение исполнения контракта</td>\n",
              "      <td>{'answer_start': [1300], 'answer_end': [1412],...</td>\n",
              "    </tr>\n",
              "    <tr>\n",
              "      <th>3</th>\n",
              "      <td>274660397</td>\n",
              "      <td>Идентификационный код закупки: 222631202689463...</td>\n",
              "      <td>обеспечение исполнения контракта</td>\n",
              "      <td>{'answer_start': [1312], 'answer_end': [1424],...</td>\n",
              "    </tr>\n",
              "    <tr>\n",
              "      <th>4</th>\n",
              "      <td>732742591</td>\n",
              "      <td>Идентификационный код закупки: 222637800031163...</td>\n",
              "      <td>обеспечение исполнения контракта</td>\n",
              "      <td>{'answer_start': [1314], 'answer_end': [1426],...</td>\n",
              "    </tr>\n",
              "    <tr>\n",
              "      <th>5</th>\n",
              "      <td>102997495</td>\n",
              "      <td>Идентификационный код закупки: 222635001882363...</td>\n",
              "      <td>обеспечение исполнения контракта</td>\n",
              "      <td>{'answer_start': [1304], 'answer_end': [1416],...</td>\n",
              "    </tr>\n",
              "    <tr>\n",
              "      <th>6</th>\n",
              "      <td>355078344</td>\n",
              "      <td>Идентификационный код закупки: 222635001881663...</td>\n",
              "      <td>обеспечение исполнения контракта</td>\n",
              "      <td>{'answer_start': [1315], 'answer_end': [1427],...</td>\n",
              "    </tr>\n",
              "    <tr>\n",
              "      <th>7</th>\n",
              "      <td>803828087</td>\n",
              "      <td>Извещение о проведении электронного аукциона д...</td>\n",
              "      <td>обеспечение исполнения контракта</td>\n",
              "      <td>{'answer_start': [1312], 'answer_end': [1377],...</td>\n",
              "    </tr>\n",
              "    <tr>\n",
              "      <th>8</th>\n",
              "      <td>285525147</td>\n",
              "      <td>Извещение о проведении электронного аукциона д...</td>\n",
              "      <td>обеспечение исполнения контракта</td>\n",
              "      <td>{'answer_start': [1291], 'answer_end': [1357],...</td>\n",
              "    </tr>\n",
              "    <tr>\n",
              "      <th>9</th>\n",
              "      <td>321195392</td>\n",
              "      <td>Извещение о проведении электронного аукциона д...</td>\n",
              "      <td>обеспечение исполнения контракта</td>\n",
              "      <td>{'answer_start': [1295], 'answer_end': [1360],...</td>\n",
              "    </tr>\n",
              "  </tbody>\n",
              "</table>\n",
              "</div>\n",
              "      <button class=\"colab-df-convert\" onclick=\"convertToInteractive('df-35e69467-ae3f-4d23-8129-5cbd0e79aa32')\"\n",
              "              title=\"Convert this dataframe to an interactive table.\"\n",
              "              style=\"display:none;\">\n",
              "        \n",
              "  <svg xmlns=\"http://www.w3.org/2000/svg\" height=\"24px\"viewBox=\"0 0 24 24\"\n",
              "       width=\"24px\">\n",
              "    <path d=\"M0 0h24v24H0V0z\" fill=\"none\"/>\n",
              "    <path d=\"M18.56 5.44l.94 2.06.94-2.06 2.06-.94-2.06-.94-.94-2.06-.94 2.06-2.06.94zm-11 1L8.5 8.5l.94-2.06 2.06-.94-2.06-.94L8.5 2.5l-.94 2.06-2.06.94zm10 10l.94 2.06.94-2.06 2.06-.94-2.06-.94-.94-2.06-.94 2.06-2.06.94z\"/><path d=\"M17.41 7.96l-1.37-1.37c-.4-.4-.92-.59-1.43-.59-.52 0-1.04.2-1.43.59L10.3 9.45l-7.72 7.72c-.78.78-.78 2.05 0 2.83L4 21.41c.39.39.9.59 1.41.59.51 0 1.02-.2 1.41-.59l7.78-7.78 2.81-2.81c.8-.78.8-2.07 0-2.86zM5.41 20L4 18.59l7.72-7.72 1.47 1.35L5.41 20z\"/>\n",
              "  </svg>\n",
              "      </button>\n",
              "      \n",
              "  <style>\n",
              "    .colab-df-container {\n",
              "      display:flex;\n",
              "      flex-wrap:wrap;\n",
              "      gap: 12px;\n",
              "    }\n",
              "\n",
              "    .colab-df-convert {\n",
              "      background-color: #E8F0FE;\n",
              "      border: none;\n",
              "      border-radius: 50%;\n",
              "      cursor: pointer;\n",
              "      display: none;\n",
              "      fill: #1967D2;\n",
              "      height: 32px;\n",
              "      padding: 0 0 0 0;\n",
              "      width: 32px;\n",
              "    }\n",
              "\n",
              "    .colab-df-convert:hover {\n",
              "      background-color: #E2EBFA;\n",
              "      box-shadow: 0px 1px 2px rgba(60, 64, 67, 0.3), 0px 1px 3px 1px rgba(60, 64, 67, 0.15);\n",
              "      fill: #174EA6;\n",
              "    }\n",
              "\n",
              "    [theme=dark] .colab-df-convert {\n",
              "      background-color: #3B4455;\n",
              "      fill: #D2E3FC;\n",
              "    }\n",
              "\n",
              "    [theme=dark] .colab-df-convert:hover {\n",
              "      background-color: #434B5C;\n",
              "      box-shadow: 0px 1px 3px 1px rgba(0, 0, 0, 0.15);\n",
              "      filter: drop-shadow(0px 1px 2px rgba(0, 0, 0, 0.3));\n",
              "      fill: #FFFFFF;\n",
              "    }\n",
              "  </style>\n",
              "\n",
              "      <script>\n",
              "        const buttonEl =\n",
              "          document.querySelector('#df-35e69467-ae3f-4d23-8129-5cbd0e79aa32 button.colab-df-convert');\n",
              "        buttonEl.style.display =\n",
              "          google.colab.kernel.accessAllowed ? 'block' : 'none';\n",
              "\n",
              "        async function convertToInteractive(key) {\n",
              "          const element = document.querySelector('#df-35e69467-ae3f-4d23-8129-5cbd0e79aa32');\n",
              "          const dataTable =\n",
              "            await google.colab.kernel.invokeFunction('convertToInteractive',\n",
              "                                                     [key], {});\n",
              "          if (!dataTable) return;\n",
              "\n",
              "          const docLinkHtml = 'Like what you see? Visit the ' +\n",
              "            '<a target=\"_blank\" href=https://colab.research.google.com/notebooks/data_table.ipynb>data table notebook</a>'\n",
              "            + ' to learn more about interactive tables.';\n",
              "          element.innerHTML = '';\n",
              "          dataTable['output_type'] = 'display_data';\n",
              "          await google.colab.output.renderOutput(dataTable, element);\n",
              "          const docLink = document.createElement('div');\n",
              "          docLink.innerHTML = docLinkHtml;\n",
              "          element.appendChild(docLink);\n",
              "        }\n",
              "      </script>\n",
              "    </div>\n",
              "  </div>\n",
              "  "
            ]
          },
          "metadata": {},
          "execution_count": 90
        }
      ]
    },
    {
      "cell_type": "markdown",
      "source": [
        "Let's look at some examples of model predictions. Spacy has beautiful render to show the entities inside the text."
      ],
      "metadata": {
        "id": "IQalgUig86Jo"
      }
    },
    {
      "cell_type": "code",
      "source": [
        "test_df.loc[195].label"
      ],
      "metadata": {
        "colab": {
          "base_uri": "https://localhost:8080/",
          "height": 35
        },
        "id": "xSbkYeIXGwGN",
        "outputId": "1d138d39-6d20-40b3-de41-d636038c53d4"
      },
      "execution_count": null,
      "outputs": [
        {
          "output_type": "execute_result",
          "data": {
            "text/plain": [
              "'обеспечение гарантийных обязательств'"
            ],
            "application/vnd.google.colaboratory.intrinsic+json": {
              "type": "string"
            }
          },
          "metadata": {},
          "execution_count": 82
        }
      ]
    },
    {
      "cell_type": "code",
      "source": [
        "doc = nlp_ner(test_df.text.loc[195])\n",
        "\n",
        "colors = {\"обеспечение исполнения контракта\": \"#FF2D00\", \"обеспечение гарантийных обязательств\": \"#36FF00\"}\n",
        "options = {\"colors\": colors} \n",
        "\n",
        "spacy.displacy.render(doc, style=\"ent\", options=options, jupyter=True)"
      ],
      "metadata": {
        "id": "a46PQtTGzT0z",
        "colab": {
          "base_uri": "https://localhost:8080/",
          "height": 472
        },
        "outputId": "c1a83f05-d00b-420f-9f85-ba53b0cf9be7"
      },
      "execution_count": null,
      "outputs": [
        {
          "output_type": "display_data",
          "data": {
            "text/plain": [
              "<IPython.core.display.HTML object>"
            ],
            "text/html": [
              "<span class=\"tex2jax_ignore\"><div class=\"entities\" style=\"line-height: 2.5; direction: ltr\">12 ПРОЕКТ КОНТРАКТА на поставку микроскопов, ввод в эксплуатацию медицинских изделий, обучение правилам эксплуатации специалистов, эксплуатирующих медицинские изделия Идентификационный код закупки 222291000094429100100100120680000244 Регистрационный № _________ П. Березник &quot;__&quot; __________ 2022 етензии Заказчика. Убытки, возникшие в связи с заменой Оборудования, несет Поставщик. 8.5. Поставщик гарантирует качество и безопасность поставляемого Оборудования. Поставщик предоставляет Заказчику гарантии производителя (изготовителя) Оборудования, оформленные соответствующими гарантийными талонами или аналогичными документами, подтверждающими надлежащее качество материалов, используемых для изготовления Оборудования, а также надлежащее качество Оборудования. 8.6. Гарантия Поставщика и гарантия производителя на поставленное Оборудование составляет не менее 12 месяцев. Гарантийный срок начинает исчисляться со дня подписания документа о приемке. Во время гарантийного срока все обнаруженные неисправности должны устраняться Поставщиком или его представителем в течение 10 календарных дней после получения извещения о неисправности путем ремонта или замены неисправного оборудования или его частей. Расходы, связанные с исполнением гарантийных обязательств по Контракту, несет Поставщик. 8.7. \n",
              "<mark class=\"entity\" style=\"background: #36FF00; padding: 0.45em 0.6em; margin: 0 0.25em; line-height: 1; border-radius: 0.35em;\">\n",
              "    Обеспечение гарантийных обязательств установлено в размере 1% начальной (максимальной) цены Контракта, что составляет _______ рублей _____ копеек.\n",
              "    <span style=\"font-size: 0.8em; font-weight: bold; line-height: 1; border-radius: 0.35em; vertical-align: middle; margin-left: 0.5rem\">обеспечение гарантийных обязательств</span>\n",
              "</mark>\n",
              " 8.8. Обеспечение гарантийных обязательств предоставляется Поставщиком одновременно с Актом приема-передачи оборудования (приложение № 3 к Контракту). Одновременно с указанным актом Поставщик предоставляет Заказчику документ, подтверждающий предоставление обеспечения гарантийных обязательств. 8.9. Гарантийные обязательства обеспечиваются предоставлением независимой гарантии, соответствующей требованиям статьи 45 Федерального закона о контрактной системе, или внесением денежных средств на указанный Заказчиком счет, на котором в соответствии с законодательством Российской Федерации учитываются операции со средствами, поступающими Заказчику. Способ обеспечения гарантийных обязательств, срок действия независимой гарантии определяются в соответствии с требованиями Федерального закона о контрактной системе участником закупки, с которым заключается контракт, самостоятельно. Срок действия независимой гарантии должен превышать предусмотренный Контрактом срок исполнения обязательств, которые дол От Поставщика: От Заказчика: М.П. (при наличии) М.П. &quot;__&quot; ________ 20__ г. &quot;__&quot; ________ 20__ г. Приложение № 4 к Контракту от &quot;__&quot; __________ 2021 г. № ____ Образец АКТ</div></span>"
            ]
          },
          "metadata": {}
        }
      ]
    },
    {
      "cell_type": "code",
      "source": [
        "test_df.loc[111].label"
      ],
      "metadata": {
        "colab": {
          "base_uri": "https://localhost:8080/",
          "height": 35
        },
        "outputId": "31a673a7-faab-419e-b9c5-637edefb92e7",
        "id": "gL-7q871NP4j"
      },
      "execution_count": null,
      "outputs": [
        {
          "output_type": "execute_result",
          "data": {
            "text/plain": [
              "'обеспечение исполнения контракта'"
            ],
            "application/vnd.google.colaboratory.intrinsic+json": {
              "type": "string"
            }
          },
          "metadata": {},
          "execution_count": 83
        }
      ]
    },
    {
      "cell_type": "code",
      "source": [
        "doc = nlp_ner(test_df.text.loc[111])\n",
        "\n",
        "colors = {\"обеспечение исполнения контракта\": \"#FF2D00\", \"обеспечение гарантийных обязательств\": \"#36FF00\"}\n",
        "options = {\"colors\": colors} \n",
        "\n",
        "spacy.displacy.render(doc, style=\"ent\", options=options, jupyter=True)"
      ],
      "metadata": {
        "colab": {
          "base_uri": "https://localhost:8080/",
          "height": 507
        },
        "outputId": "c12d302b-aa3c-47ec-cf00-83535aad2eb4",
        "id": "v0UILTpmNP4k"
      },
      "execution_count": null,
      "outputs": [
        {
          "output_type": "display_data",
          "data": {
            "text/plain": [
              "<IPython.core.display.HTML object>"
            ],
            "text/html": [
              "<span class=\"tex2jax_ignore\"><div class=\"entities\" style=\"line-height: 2.5; direction: ltr\">УТВЕРЖДАЮ Заместитель Генерального директора по капитальному строительству АО «МОСГАЗ» Р.Л. Франченко « » 2022 г. М.П. КОНКУРСНАЯ ДОКУМЕНТАЦИЯ Конкурс в электронной форме, участниками которого могут быть только субъекты малого и ий пер., д. 11, стр. 1 (6 этаж) 9.22. Обеспечение исполнения договора Установлено Обеспечение исполнения гарантийных обязательств, предусмотренных договором Не установлено 9.22.1. Способ обеспечения исполнения договора Обеспечение исполнения договора предоставляется в виде: – безотзывной банковской гарантии; – внесения денежных средств на расчетный счет Заказчика, указанный в пункте 9.22.4 настоящей части документации, в качестве обеспечения исполнения договора; Выбор способа обеспечения исполнения договора осуществляется участником закупки самостоятельно. Способ обеспечения исполнения гарантийных обязательств, предусмотренных договором Не установлено 9.22.2. Обязательства по договору, которые должны быть обеспечены Согласно условиям, заключаемого по результатам настоящего конкурса в электронной форме договора Обязательства по исполнению гарантийных обязательств, предусмотренных Договором Не установлено 44 № пункта Наименование Информация 9.22.3. Размер обеспечения исполнения договора \n",
              "<mark class=\"entity\" style=\"background: #FF2D00; padding: 0.45em 0.6em; margin: 0 0.25em; line-height: 1; border-radius: 0.35em;\">\n",
              "    Участник закупки, с которым заключается договор, до заключения договора предоставляет обеспечение исполнения договора в размере 5 % от начальной (максимальной) цены договора: 1 747 305,43 руб., НДС не облагается.\n",
              "    <span style=\"font-size: 0.8em; font-weight: bold; line-height: 1; border-radius: 0.35em; vertical-align: middle; margin-left: 0.5rem\">обеспечение исполнения контракта</span>\n",
              "</mark>\n",
              " Размер обеспечения исполнения гарантийных обязательств, предусмотренных договором Не установлено 9.22.4. Реквизиты счета для внесения обеспечения исполнения договора и исполнения гарантийных обязательств предусмотренных договором Получатель: Акционерное общество «МОСГАЗ» 105120, г. Москва, Мрузовский пер., д. 11, стр. 1 ИНН/ КПП 7709919968 /775050001 Расчетный счет 40602810500160000005 в ПАО Банк ВТБ Корреспондентский счет 30101810700000000187 в ГУ Банка России по ЦФО БИК 044525187 9.23. Возможность изменения количества поставляемых товаров, объема выполняемых работ, оказываемых услуг в ходе исполнения договора Предусмотрено 45 Приложение № 1 к части III «ИНФОРМАЦИОННАЯ КАРТА КОНКУРСНОЙ ДОКУМЕНТАЦИИ» КРИТЕРИИ ОЦЕНКИ И СОПОСТАВЛЕНИЯ ЗАЯВОК НА УЧАСТИЕ В КОНКУРСЕ В ЭЛЕКТРОННОЙ ФОРМЕ, ИХ СОДЕРЖАНИЕ, ЗНАЧИМОСТЬ И ПОРЯДОК ОЦЕНКИ Оценка заявок производится на основании критериев оценки, их содержания, значимости и порядка, установленных в настоящей документации, в со ПРОЕКТНАЯ ДОКУМЕНТАЦИЯ Проект на выполнение строительно-монтажных работ по прокладке газопровода на объекте «Вынос и восстановление (перекладка) газопровода среднего давления, попадающего в зону производства работ при строительстве объекта: «Строительство дополнительных V</div></span>"
            ]
          },
          "metadata": {}
        }
      ]
    },
    {
      "cell_type": "code",
      "source": [
        "test_df.loc[243].label"
      ],
      "metadata": {
        "colab": {
          "base_uri": "https://localhost:8080/",
          "height": 35
        },
        "outputId": "d3f82cab-61a4-407c-f4fb-ba4f71ed3e01",
        "id": "aK0tvZVYNof-"
      },
      "execution_count": null,
      "outputs": [
        {
          "output_type": "execute_result",
          "data": {
            "text/plain": [
              "'обеспечение гарантийных обязательств'"
            ],
            "application/vnd.google.colaboratory.intrinsic+json": {
              "type": "string"
            }
          },
          "metadata": {},
          "execution_count": 89
        }
      ]
    },
    {
      "cell_type": "code",
      "source": [
        "doc = nlp_ner(test_df.text.loc[243])\n",
        "\n",
        "colors = {\"обеспечение исполнения контракта\": \"#FF2D00\", \"обеспечение гарантийных обязательств\": \"#36FF00\"}\n",
        "options = {\"colors\": colors} \n",
        "\n",
        "spacy.displacy.render(doc, style=\"ent\", options=options, jupyter=True)"
      ],
      "metadata": {
        "colab": {
          "base_uri": "https://localhost:8080/",
          "height": 507
        },
        "outputId": "867429e3-4542-4601-aaf0-5ce14d2e7a50",
        "id": "FmSWrcQxNof-"
      },
      "execution_count": null,
      "outputs": [
        {
          "output_type": "display_data",
          "data": {
            "text/plain": [
              "<IPython.core.display.HTML object>"
            ],
            "text/html": [
              "<span class=\"tex2jax_ignore\"><div class=\"entities\" style=\"line-height: 2.5; direction: ltr\">Приложение №3 к извещению о проведении электронного аукциона ИКЗ № 222 0278176470 027601001 0391 001 2620 414 ПРОЕКТ ГОСУДАРСТВЕННОГО КОНТРАКТА ГОСУДАРСТВЕННЫЙ КОНТРАКТ № 06/2022-_______ г. Уфа « ___ » ___________ чи заявки на участие в закупке трех контрактов, исполненных без применения к нему неустоек (штрафов, пеней). Такая информация представляется Поставщиком до заключения Контракта. При этом сумма цен таких контрактов должна составлять не менее начальной (максимальной) цены Контракта, указанной в извещении об осуществлении закупки и документации о закупке. 5.2. Поставщик до заключения Контракта предоставляет Государственному заказчику обеспечение исполнения Контракта в размере 20 % цены Контракта, что составляет ________________ (___________________) рублей. В случае, предусмотренным абзацем 3 п. 5.1. Контракта, обеспечение исполнения Контракта Поставщиком не предоставляется. В случае если предложенная Поставщиком цена Контракта снижена на 25% и более по отношению к начальной (максимальной) цене Контракта, обеспечение исполнения Контракта предоставляется в соответствии со статьей 37 Федерального закона о контрактной системе. Поставщик до оформления документа о приемке поставленного Товара \n",
              "<mark class=\"entity\" style=\"background: #36FF00; padding: 0.45em 0.6em; margin: 0 0.25em; line-height: 1; border-radius: 0.35em;\">\n",
              "    предоставляет Государственному заказчику обеспечение гарантийных обязательств в размере 5% начальной максимальной цены Контракта, что составляет ________________ (___________________) рублей\n",
              "    <span style=\"font-size: 0.8em; font-weight: bold; line-height: 1; border-radius: 0.35em; vertical-align: middle; margin-left: 0.5rem\">обеспечение гарантийных обязательств</span>\n",
              "</mark>\n",
              ". 5.3. Срок действия независимой гарантии должен превышать предусмотренный Контрактом срок исполнения обязательств, указанный в п. 11.1 Контракта, не менее чем на один месяц, в том числе в случае его изменения в соответствии со статьей 95 Федерального закона о контрактной системе. 5.4. Независимая гарантия должна быть выдана гарантом (банком, государственной корпорацией развития &quot;ВЭБ.РФ&quot;, фондами содействия кредитованию (гарантийными фондами, фондами поручительств), являющимися участниками национальной гарантийной системы поддержки малого и среднего предпринимательства или Евразийским банком развития (если участник закупки является юридическим лицом, зарегистрированным на территории государства - члена Евразийского экономического союза, за исключением Российской Федерации, или физическим лицом, являющимся гражданином государства - члена Евразийского экономического союза, за исключением Российской Федерации), соответствующим требованиям Постановления Правительства РФ от 20.12.2021 N 236 Сумма, подлежащая уплате юридическому или физическому лицу, в том числе зарегистрированному в качестве индивидуального предпринимателя, уменьшается на размер налогов, сборов и иных обязательных платежей в бюджеты бюджетной системы Российской Федерации,</div></span>"
            ]
          },
          "metadata": {}
        }
      ]
    },
    {
      "cell_type": "markdown",
      "source": [
        "Looks like it founds entities fine! What if there should not be any entity?"
      ],
      "metadata": {
        "id": "5tPtM3eiN4Ey"
      }
    },
    {
      "cell_type": "code",
      "source": [
        "test_df.loc[266].label"
      ],
      "metadata": {
        "colab": {
          "base_uri": "https://localhost:8080/",
          "height": 35
        },
        "outputId": "0880f84a-c2d2-4deb-dc1d-ab93f90b79d1",
        "id": "Q4mbMU85OHEK"
      },
      "execution_count": null,
      "outputs": [
        {
          "output_type": "execute_result",
          "data": {
            "text/plain": [
              "'обеспечение гарантийных обязательств'"
            ],
            "application/vnd.google.colaboratory.intrinsic+json": {
              "type": "string"
            }
          },
          "metadata": {},
          "execution_count": 92
        }
      ]
    },
    {
      "cell_type": "code",
      "source": [
        "doc = nlp_ner(test_df.text.loc[266])\n",
        "\n",
        "colors = {\"обеспечение исполнения контракта\": \"#FF2D00\", \"обеспечение гарантийных обязательств\": \"#36FF00\"}\n",
        "options = {\"colors\": colors} \n",
        "\n",
        "spacy.displacy.render(doc, style=\"ent\", options=options, jupyter=True)"
      ],
      "metadata": {
        "colab": {
          "base_uri": "https://localhost:8080/",
          "height": 227
        },
        "outputId": "10a5b96a-62ce-4dad-e4af-8af2af7435ec",
        "id": "nVvhDzBiOHEL"
      },
      "execution_count": null,
      "outputs": [
        {
          "output_type": "display_data",
          "data": {
            "text/plain": [
              "<IPython.core.display.HTML object>"
            ],
            "text/html": [
              "<span class=\"tex2jax_ignore\"><div class=\"entities\" style=\"line-height: 2.5; direction: ltr\">Акционерное общество «Российский концерн по производству электрической и тепловой энергии на атомных станциях» (АО «Концерн Росэнергоатом») Филиал АО «Концерн Росэнергоатом» «Ленинградская атомная станция» (Ленинградская АЭС) ИЗВЕЩЕНИЕ О ПРОВЕДЕНИИ КОНКУРСА № 9-Ф091402-06/544 от 07.09.2022 г. 1) Форма и способ процедуры закупки: Открытый конкурс в электронной форме; 2) Закупка проводится в соответствии с Единым отраслевым стандартом закупок (Положением о закупке) Государственной корпорации по атомной энергии «Росатом» с изменениями, утвержденными решением наблюдательного совета Госкорпорации «Росатом» (протокол от 07.02.2012 № 37), (далее – ЕОСЗ, Стандарт) с изменениями в его действующей редакции, с учетом приказа генерального директора Госкорпорации «Росатом» от 27.02.2019 № 1/191-П (в редакции приказа Госкорпорации «Росатом» от 11.08.2021 № 1/1006-П). Закупка регулируется Федеральным законом от 18 июля 2011 года № 223- ФЗ «О закупках товаров, работ, услуг отдельными видами юридически Контактное лицо: Мельникова Анастасия Геннадьевна, Тел.(495)783-01-43, доб.24-69Начальник управления закупок Л.И.Кулева mailto:arbitr@rosenergoatom.ru</div></span>"
            ]
          },
          "metadata": {}
        }
      ]
    },
    {
      "cell_type": "markdown",
      "source": [
        "It just does not see it. Good."
      ],
      "metadata": {
        "id": "LWL_ymAlOLC-"
      }
    }
  ]
}
